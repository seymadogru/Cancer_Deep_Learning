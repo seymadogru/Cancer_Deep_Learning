{
  "nbformat": 4,
  "nbformat_minor": 0,
  "metadata": {
    "colab": {
      "provenance": [],
      "machine_shape": "hm",
      "gpuType": "T4"
    },
    "kernelspec": {
      "name": "python3",
      "display_name": "Python 3"
    },
    "language_info": {
      "name": "python"
    },
    "accelerator": "GPU"
  },
  "cells": [
    {
      "cell_type": "code",
      "execution_count": 1,
      "metadata": {
        "colab": {
          "base_uri": "https://localhost:8080/"
        },
        "id": "WnkFWILVa9xM",
        "outputId": "146c8045-3544-4e2c-ab88-26ff224a8667"
      },
      "outputs": [
        {
          "output_type": "stream",
          "name": "stdout",
          "text": [
            "--2024-05-09 08:16:41--  https://raw.githubusercontent.com/mrdbourke/tensorflow-deep-learning/main/extras/helper_functions.py\n",
            "Resolving raw.githubusercontent.com (raw.githubusercontent.com)... 185.199.108.133, 185.199.109.133, 185.199.110.133, ...\n",
            "Connecting to raw.githubusercontent.com (raw.githubusercontent.com)|185.199.108.133|:443... connected.\n",
            "HTTP request sent, awaiting response... 200 OK\n",
            "Length: 10246 (10K) [text/plain]\n",
            "Saving to: ‘helper_functions.py’\n",
            "\n",
            "helper_functions.py 100%[===================>]  10.01K  --.-KB/s    in 0s      \n",
            "\n",
            "2024-05-09 08:16:42 (123 MB/s) - ‘helper_functions.py’ saved [10246/10246]\n",
            "\n"
          ]
        }
      ],
      "source": [
        "#Transfer Learning with Tensorflow\n",
        "\n",
        "!wget https://raw.githubusercontent.com/mrdbourke/tensorflow-deep-learning/main/extras/helper_functions.py"
      ]
    },
    {
      "cell_type": "code",
      "source": [
        "#import helper functions we're going to use in this notebook\n",
        "\n",
        "from helper_functions import create_tensorboard_callback, plot_loss_curves, unzip_data, walk_through_dir"
      ],
      "metadata": {
        "id": "Sn7sJFoNbPSs"
      },
      "execution_count": 2,
      "outputs": []
    },
    {
      "cell_type": "code",
      "source": [
        "import os\n",
        "\n",
        "for dirpath, dirnames, filenames in os.walk(\"/content/drive/MyDrive/just_recombined\"):\n",
        "  print(f\"There are {len(dirnames)} directories and {len(filenames)} images in '{dirpath}'.\")"
      ],
      "metadata": {
        "colab": {
          "base_uri": "https://localhost:8080/"
        },
        "id": "XaVS5PT1bSWD",
        "outputId": "921c5b55-1e37-40c5-8161-16187cc02ae2"
      },
      "execution_count": 3,
      "outputs": [
        {
          "output_type": "stream",
          "name": "stdout",
          "text": [
            "There are 2 directories and 0 images in '/content/drive/MyDrive/just_recombined'.\n",
            "There are 2 directories and 0 images in '/content/drive/MyDrive/just_recombined/Train'.\n",
            "There are 0 directories and 440 images in '/content/drive/MyDrive/just_recombined/Train/Malignant'.\n",
            "There are 0 directories and 287 images in '/content/drive/MyDrive/just_recombined/Train/Benign'.\n",
            "There are 2 directories and 0 images in '/content/drive/MyDrive/just_recombined/Test'.\n",
            "There are 0 directories and 13 images in '/content/drive/MyDrive/just_recombined/Test/Benign'.\n",
            "There are 0 directories and 30 images in '/content/drive/MyDrive/just_recombined/Test/Malignant'.\n"
          ]
        }
      ]
    },
    {
      "cell_type": "code",
      "source": [
        "train_dir = \"/content/drive/MyDrive/just_recombined/Train\"\n",
        "test_dir = \"/content/drive/MyDrive/just_recombined/Test\""
      ],
      "metadata": {
        "id": "7hbWxpgRbYIP"
      },
      "execution_count": 4,
      "outputs": []
    },
    {
      "cell_type": "code",
      "source": [
        "import tensorflow as tf\n",
        "BATCH_SIZE = 32\n",
        "IMG_SIZE = (224, 224)\n",
        "train_data= tf.keras.preprocessing.image_dataset_from_directory(train_dir,\n",
        "                                                          label_mode=\"binary\",\n",
        "                                                          batch_size=BATCH_SIZE,\n",
        "                                                          image_size=IMG_SIZE)\n",
        "\n",
        "test_data = tf.keras.preprocessing.image_dataset_from_directory(test_dir,\n",
        "                                                          label_mode=\"binary\",\n",
        "                                                          batch_size=BATCH_SIZE,\n",
        "                                                          image_size=IMG_SIZE)"
      ],
      "metadata": {
        "colab": {
          "base_uri": "https://localhost:8080/"
        },
        "id": "R9_7ETM9bgDd",
        "outputId": "fb52dc4c-9e20-4346-e410-c7d334482df4"
      },
      "execution_count": 5,
      "outputs": [
        {
          "output_type": "stream",
          "name": "stdout",
          "text": [
            "Found 727 files belonging to 2 classes.\n",
            "Found 43 files belonging to 2 classes.\n"
          ]
        }
      ]
    },
    {
      "cell_type": "code",
      "source": [
        "train_data.class_names"
      ],
      "metadata": {
        "colab": {
          "base_uri": "https://localhost:8080/"
        },
        "id": "Cbp3XVEXbkdd",
        "outputId": "3fdb0122-0261-45c1-b06c-639005b1549b"
      },
      "execution_count": 6,
      "outputs": [
        {
          "output_type": "execute_result",
          "data": {
            "text/plain": [
              "['Benign', 'Malignant']"
            ]
          },
          "metadata": {},
          "execution_count": 6
        }
      ]
    },
    {
      "cell_type": "code",
      "source": [
        "\n",
        "from tensorflow.keras.preprocessing.image import ImageDataGenerator\n",
        "from tensorflow.keras.preprocessing.image import img_to_array\n",
        "from tensorflow.keras.preprocessing.image import load_img\n",
        "import numpy as np\n",
        "import random\n",
        "import math\n",
        "import csv\n",
        "import cv2\n",
        "import os\n",
        ""
      ],
      "metadata": {
        "id": "TYBnczufcd0w"
      },
      "execution_count": 8,
      "outputs": []
    },
    {
      "cell_type": "code",
      "source": [
        "image_width = 224\n",
        "image_height = 224\n",
        "classes = ['Benign', 'Malignant']\n",
        "datagen = ImageDataGenerator(\n",
        "    rescale=1.0/255,\n",
        "    rotation_range=40,\n",
        "    width_shift_range=0.2,\n",
        "    height_shift_range=0.2,\n",
        "    shear_range=0.2,\n",
        "    zoom_range=0.2,\n",
        "    horizontal_flip=True,\n",
        "    fill_mode='nearest'\n",
        ")\n",
        "\n",
        "# Resimleri yüklemek için flow_from_directory kullanın\n",
        "train_generator = datagen.flow_from_directory(\n",
        "    directory=\"/content/drive/MyDrive/just_recombined/Train\",\n",
        "    target_size=(image_width, image_height),\n",
        "    batch_size=32,\n",
        "    class_mode='categorical',\n",
        "    subset='training'\n",
        ")\n",
        "\n",
        "# Her sınıf için resimleri ayrı ayrı arttırın\n",
        "for cls in classes:\n",
        "    # Sınıfın resimlerini yüklemek için flow_from_directory kullanın\n",
        "    cls_generator = datagen.flow_from_directory(\n",
        "        directory=\"/content/drive/MyDrive/just_recombined/Train\",\n",
        "        target_size=(image_width, image_height),\n",
        "        batch_size=32,\n",
        "        class_mode='categorical',\n",
        "        subset='training',\n",
        "        classes=[cls]\n",
        "    )\n",
        "\n",
        "    # Resimleri arttırın ve kaydedin\n",
        "    i = 0\n",
        "    for batch in cls_generator:\n",
        "        images, labels = batch\n",
        "        for image in images:\n",
        "            # Resmi kaydetmek için imwrite kullanın\n",
        "            cv2.imwrite(os.path.join(\"/content/drive/MyDrive/just_recombined/Train\", cls, f\"augmented_{i}.jpg\"), image * 255)\n",
        "            i += 1\n",
        "            if i >= 5000:  # Maksimum resim sayısına ulaşıldığında döngüyü durdur\n",
        "                break\n",
        "        else:\n",
        "            continue\n",
        "        break"
      ],
      "metadata": {
        "colab": {
          "base_uri": "https://localhost:8080/"
        },
        "id": "WEriWWXUcA0x",
        "outputId": "a213ac72-3c8a-4032-c594-1e7d5fd4fc5f"
      },
      "execution_count": 12,
      "outputs": [
        {
          "output_type": "stream",
          "name": "stdout",
          "text": [
            "Found 727 images belonging to 2 classes.\n",
            "Found 287 images belonging to 1 classes.\n",
            "Found 440 images belonging to 1 classes.\n"
          ]
        }
      ]
    },
    {
      "cell_type": "code",
      "source": [
        "# Load the augmented images for the malignant class\n",
        "augmented_images = os.listdir(\"/content/drive/MyDrive/just_recombined/Train/Malignant\")\n",
        "\n",
        "# Count the number of augmented images\n",
        "num_malignant_images = len(augmented_images)\n",
        "\n",
        "# Print the number of malignant images\n",
        "print(\"Number of malignant images:\", num_malignant_images)"
      ],
      "metadata": {
        "colab": {
          "base_uri": "https://localhost:8080/"
        },
        "id": "pdlWVsCJcYk0",
        "outputId": "f6723546-d69d-497b-e0e7-0169ac1446f3"
      },
      "execution_count": 13,
      "outputs": [
        {
          "output_type": "stream",
          "name": "stdout",
          "text": [
            "Number of malignant images: 5440\n"
          ]
        }
      ]
    },
    {
      "cell_type": "code",
      "source": [
        "augmented_images3 = os.listdir(\"/content/drive/MyDrive/just_recombined/Train/Benign\")\n",
        "\n",
        "# Count the number of augmented images\n",
        "num_benign_images = len(augmented_images3)\n",
        "\n",
        "# Print the number of malignant images\n",
        "print(\"Number of benign images:\", num_benign_images)"
      ],
      "metadata": {
        "colab": {
          "base_uri": "https://localhost:8080/"
        },
        "id": "QjS0kbdOfwjG",
        "outputId": "dcf56474-f283-46a3-d093-fd3b28affc2e"
      },
      "execution_count": 14,
      "outputs": [
        {
          "output_type": "stream",
          "name": "stdout",
          "text": [
            "Number of benign images: 5287\n"
          ]
        }
      ]
    },
    {
      "cell_type": "code",
      "source": [
        "for dirpath, dirnames, filenames in os.walk(\"/content/drive/MyDrive/just_recombined\"):\n",
        "  print(f\"There are {len(dirnames)} directories and {len(filenames)} images in '{dirpath}'.\")"
      ],
      "metadata": {
        "colab": {
          "base_uri": "https://localhost:8080/"
        },
        "id": "ngShYT_1f07h",
        "outputId": "852385bb-2d8b-4b66-d711-30c84955179a"
      },
      "execution_count": 15,
      "outputs": [
        {
          "output_type": "stream",
          "name": "stdout",
          "text": [
            "There are 2 directories and 0 images in '/content/drive/MyDrive/just_recombined'.\n",
            "There are 2 directories and 0 images in '/content/drive/MyDrive/just_recombined/Train'.\n",
            "There are 0 directories and 5440 images in '/content/drive/MyDrive/just_recombined/Train/Malignant'.\n",
            "There are 0 directories and 5287 images in '/content/drive/MyDrive/just_recombined/Train/Benign'.\n",
            "There are 2 directories and 0 images in '/content/drive/MyDrive/just_recombined/Test'.\n",
            "There are 0 directories and 13 images in '/content/drive/MyDrive/just_recombined/Test/Benign'.\n",
            "There are 0 directories and 30 images in '/content/drive/MyDrive/just_recombined/Test/Malignant'.\n"
          ]
        }
      ]
    },
    {
      "cell_type": "code",
      "source": [
        "train_dir = \"/content/drive/MyDrive/just_recombined/Train\"\n",
        "test_dir = \"/content/drive/MyDrive/just_recombined/Test\""
      ],
      "metadata": {
        "id": "P2BcajAOgio7"
      },
      "execution_count": 16,
      "outputs": []
    },
    {
      "cell_type": "code",
      "source": [
        "import tensorflow as tf\n",
        "BATCH_SIZE = 32\n",
        "IMG_SIZE = (224, 224)\n",
        "train_data= tf.keras.preprocessing.image_dataset_from_directory(train_dir,\n",
        "                                                          label_mode=\"binary\",\n",
        "                                                          batch_size=BATCH_SIZE,\n",
        "                                                          image_size=IMG_SIZE)\n",
        "\n",
        "test_data = tf.keras.preprocessing.image_dataset_from_directory(test_dir,\n",
        "                                                          label_mode=\"binary\",\n",
        "                                                          batch_size=BATCH_SIZE,\n",
        "                                                          image_size=IMG_SIZE)"
      ],
      "metadata": {
        "colab": {
          "base_uri": "https://localhost:8080/"
        },
        "id": "Auvy6nbbgmi0",
        "outputId": "5fadf66b-72ac-4e3f-c43e-9305133bc54b"
      },
      "execution_count": 17,
      "outputs": [
        {
          "output_type": "stream",
          "name": "stdout",
          "text": [
            "Found 10727 files belonging to 2 classes.\n",
            "Found 43 files belonging to 2 classes.\n"
          ]
        }
      ]
    },
    {
      "cell_type": "code",
      "source": [
        "train_data.class_names"
      ],
      "metadata": {
        "colab": {
          "base_uri": "https://localhost:8080/"
        },
        "id": "BO7PYzO_gpC0",
        "outputId": "6323a8e9-310f-4bb5-9057-16a7fb7c6dec"
      },
      "execution_count": 18,
      "outputs": [
        {
          "output_type": "execute_result",
          "data": {
            "text/plain": [
              "['Benign', 'Malignant']"
            ]
          },
          "metadata": {},
          "execution_count": 18
        }
      ]
    },
    {
      "cell_type": "code",
      "source": [
        "# 1.  create base model with tf.keras.applications\n",
        "base_model = tf.keras.applications.EfficientNetB0(include_top=False)\n",
        "\n",
        "# 2. Freeze the base model\n",
        "base_model.trainable = False\n",
        "\n",
        "# 3. create inputs into our model\n",
        "inputs = tf.keras.layers.Input(shape=(224, 224, 3), name=\"input_layer\")\n",
        "\n",
        "# 4. if using ResNet50V2 you will need to normalize inputs\n",
        "# x = tf.keras.layers.experimental.preprocessing.Rescaling(1./255)(inputs)\n",
        "\n",
        "# 5. pass the inputs to the base_model\n",
        "x = base_model(inputs)\n",
        "print(f\"Shape after passing inputs through base model: {x.shape}\")\n",
        "\n",
        "# 6. average pool the outputs of the base model (aggregate all the most important information, reduce number of computations)\n",
        "x = tf.keras.layers.GlobalAveragePooling2D(name=\"global_average_pooling_layer\")(x)\n",
        "print(f\"Shape after GlobalAveragePooling2D: {x.shape}\")\n",
        "\n",
        "# 7. create the output activation layer\n",
        "outputs = tf.keras.layers.Dense(1, activation=\"sigmoid\", name=\"output_layer\")(x)\n",
        "model_0 = tf.keras.Model(inputs, outputs)\n",
        "\n",
        "# 8. compile the model\n",
        "model_0.compile(loss=\"binary_crossentropy\",\n",
        "                optimizer=tf.keras.optimizers.Adam(),\n",
        "                metrics=[\"accuracy\"])\n",
        "\n",
        "# 9. fit the model\n",
        "history_0 = model_0.fit(train_data,\n",
        "                        epochs=40,\n",
        "                        steps_per_epoch=len(train_data),\n",
        "                        validation_data=test_data,\n",
        "                        validation_steps=int(len(test_data)),\n",
        "                        callbacks=[create_tensorboard_callback(dir_name=\"transfer_learning\",\n",
        "                                                              experiment_name=\"10_percent_feature_extraction\")])"
      ],
      "metadata": {
        "colab": {
          "base_uri": "https://localhost:8080/"
        },
        "id": "kcUaAGiWguTc",
        "outputId": "0f4e7a03-0295-49e8-a32c-7fa0cda6c8c7"
      },
      "execution_count": 20,
      "outputs": [
        {
          "output_type": "stream",
          "name": "stdout",
          "text": [
            "Shape after passing inputs through base model: (None, 7, 7, 1280)\n",
            "Shape after GlobalAveragePooling2D: (None, 1280)\n",
            "Saving TensorBoard log files to: transfer_learning/10_percent_feature_extraction/20240509-084437\n",
            "Epoch 1/40\n",
            "336/336 [==============================] - 50s 128ms/step - loss: 0.6139 - accuracy: 0.6584 - val_loss: 0.5566 - val_accuracy: 0.6977\n",
            "Epoch 2/40\n",
            "336/336 [==============================] - 28s 80ms/step - loss: 0.5671 - accuracy: 0.7021 - val_loss: 0.5482 - val_accuracy: 0.6744\n",
            "Epoch 3/40\n",
            "336/336 [==============================] - 28s 81ms/step - loss: 0.5451 - accuracy: 0.7197 - val_loss: 0.5297 - val_accuracy: 0.7674\n",
            "Epoch 4/40\n",
            "336/336 [==============================] - 28s 80ms/step - loss: 0.5282 - accuracy: 0.7323 - val_loss: 0.5230 - val_accuracy: 0.7442\n",
            "Epoch 5/40\n",
            "336/336 [==============================] - 27s 79ms/step - loss: 0.5161 - accuracy: 0.7455 - val_loss: 0.5234 - val_accuracy: 0.7442\n",
            "Epoch 6/40\n",
            "336/336 [==============================] - 27s 79ms/step - loss: 0.5078 - accuracy: 0.7504 - val_loss: 0.5158 - val_accuracy: 0.7907\n",
            "Epoch 7/40\n",
            "336/336 [==============================] - 28s 80ms/step - loss: 0.5011 - accuracy: 0.7580 - val_loss: 0.5402 - val_accuracy: 0.7674\n",
            "Epoch 8/40\n",
            "336/336 [==============================] - 27s 80ms/step - loss: 0.4950 - accuracy: 0.7574 - val_loss: 0.5329 - val_accuracy: 0.7674\n",
            "Epoch 9/40\n",
            "336/336 [==============================] - 28s 81ms/step - loss: 0.4901 - accuracy: 0.7565 - val_loss: 0.5351 - val_accuracy: 0.7442\n",
            "Epoch 10/40\n",
            "336/336 [==============================] - 28s 82ms/step - loss: 0.4856 - accuracy: 0.7661 - val_loss: 0.5232 - val_accuracy: 0.7674\n",
            "Epoch 11/40\n",
            "336/336 [==============================] - 27s 80ms/step - loss: 0.4820 - accuracy: 0.7672 - val_loss: 0.5255 - val_accuracy: 0.7674\n",
            "Epoch 12/40\n",
            "336/336 [==============================] - 27s 79ms/step - loss: 0.4776 - accuracy: 0.7696 - val_loss: 0.5257 - val_accuracy: 0.8140\n",
            "Epoch 13/40\n",
            "336/336 [==============================] - 27s 80ms/step - loss: 0.4723 - accuracy: 0.7742 - val_loss: 0.5255 - val_accuracy: 0.8140\n",
            "Epoch 14/40\n",
            "336/336 [==============================] - 27s 79ms/step - loss: 0.4676 - accuracy: 0.7761 - val_loss: 0.5373 - val_accuracy: 0.7907\n",
            "Epoch 15/40\n",
            "336/336 [==============================] - 27s 78ms/step - loss: 0.4684 - accuracy: 0.7751 - val_loss: 0.5339 - val_accuracy: 0.7907\n",
            "Epoch 16/40\n",
            "336/336 [==============================] - 27s 78ms/step - loss: 0.4629 - accuracy: 0.7804 - val_loss: 0.5319 - val_accuracy: 0.8140\n",
            "Epoch 17/40\n",
            "336/336 [==============================] - 27s 78ms/step - loss: 0.4586 - accuracy: 0.7820 - val_loss: 0.5410 - val_accuracy: 0.7442\n",
            "Epoch 18/40\n",
            "336/336 [==============================] - 27s 78ms/step - loss: 0.4585 - accuracy: 0.7851 - val_loss: 0.5288 - val_accuracy: 0.8140\n",
            "Epoch 19/40\n",
            "336/336 [==============================] - 27s 78ms/step - loss: 0.4572 - accuracy: 0.7811 - val_loss: 0.5317 - val_accuracy: 0.8140\n",
            "Epoch 20/40\n",
            "336/336 [==============================] - 27s 80ms/step - loss: 0.4535 - accuracy: 0.7873 - val_loss: 0.5369 - val_accuracy: 0.8140\n",
            "Epoch 21/40\n",
            "336/336 [==============================] - 27s 79ms/step - loss: 0.4509 - accuracy: 0.7892 - val_loss: 0.5441 - val_accuracy: 0.7442\n",
            "Epoch 22/40\n",
            "336/336 [==============================] - 27s 79ms/step - loss: 0.4492 - accuracy: 0.7905 - val_loss: 0.5247 - val_accuracy: 0.8140\n",
            "Epoch 23/40\n",
            "336/336 [==============================] - 27s 78ms/step - loss: 0.4448 - accuracy: 0.7939 - val_loss: 0.5508 - val_accuracy: 0.8140\n",
            "Epoch 24/40\n",
            "336/336 [==============================] - 27s 78ms/step - loss: 0.4443 - accuracy: 0.7914 - val_loss: 0.5472 - val_accuracy: 0.7907\n",
            "Epoch 25/40\n",
            "336/336 [==============================] - 27s 79ms/step - loss: 0.4435 - accuracy: 0.7930 - val_loss: 0.5446 - val_accuracy: 0.7674\n",
            "Epoch 26/40\n",
            "336/336 [==============================] - 27s 77ms/step - loss: 0.4428 - accuracy: 0.7950 - val_loss: 0.5442 - val_accuracy: 0.7907\n",
            "Epoch 27/40\n",
            "336/336 [==============================] - 27s 78ms/step - loss: 0.4430 - accuracy: 0.7929 - val_loss: 0.5560 - val_accuracy: 0.7674\n",
            "Epoch 28/40\n",
            "336/336 [==============================] - 27s 78ms/step - loss: 0.4373 - accuracy: 0.7971 - val_loss: 0.5685 - val_accuracy: 0.7442\n",
            "Epoch 29/40\n",
            "336/336 [==============================] - 27s 77ms/step - loss: 0.4407 - accuracy: 0.7900 - val_loss: 0.5499 - val_accuracy: 0.8140\n",
            "Epoch 30/40\n",
            "336/336 [==============================] - 27s 79ms/step - loss: 0.4359 - accuracy: 0.7950 - val_loss: 0.5566 - val_accuracy: 0.8140\n",
            "Epoch 31/40\n",
            "336/336 [==============================] - 27s 78ms/step - loss: 0.4330 - accuracy: 0.8006 - val_loss: 0.5560 - val_accuracy: 0.7907\n",
            "Epoch 32/40\n",
            "336/336 [==============================] - 27s 78ms/step - loss: 0.4314 - accuracy: 0.8004 - val_loss: 0.5601 - val_accuracy: 0.7907\n",
            "Epoch 33/40\n",
            "336/336 [==============================] - 27s 78ms/step - loss: 0.4290 - accuracy: 0.8062 - val_loss: 0.5488 - val_accuracy: 0.7674\n",
            "Epoch 34/40\n",
            "336/336 [==============================] - 27s 77ms/step - loss: 0.4351 - accuracy: 0.7977 - val_loss: 0.5574 - val_accuracy: 0.7674\n",
            "Epoch 35/40\n",
            "336/336 [==============================] - 27s 78ms/step - loss: 0.4311 - accuracy: 0.7999 - val_loss: 0.5532 - val_accuracy: 0.7674\n",
            "Epoch 36/40\n",
            "336/336 [==============================] - 27s 77ms/step - loss: 0.4258 - accuracy: 0.8034 - val_loss: 0.5628 - val_accuracy: 0.7442\n",
            "Epoch 37/40\n",
            "336/336 [==============================] - 27s 78ms/step - loss: 0.4230 - accuracy: 0.8061 - val_loss: 0.5687 - val_accuracy: 0.7674\n",
            "Epoch 38/40\n",
            "336/336 [==============================] - 26s 77ms/step - loss: 0.4265 - accuracy: 0.8054 - val_loss: 0.5570 - val_accuracy: 0.7674\n",
            "Epoch 39/40\n",
            "336/336 [==============================] - 27s 77ms/step - loss: 0.4285 - accuracy: 0.7991 - val_loss: 0.5629 - val_accuracy: 0.7674\n",
            "Epoch 40/40\n",
            "336/336 [==============================] - 27s 78ms/step - loss: 0.4269 - accuracy: 0.8064 - val_loss: 0.5712 - val_accuracy: 0.7442\n"
          ]
        }
      ]
    },
    {
      "cell_type": "code",
      "source": [
        "import matplotlib.pyplot as plt\n",
        "\n",
        "def plot_loss_curves(history):\n",
        "  \"\"\"\n",
        "  Returns separate loss curves for training and validation metrics.\n",
        "  Args:\n",
        "    history: TensorFlow History object.\n",
        "\n",
        "    Returns:\n",
        "    Plots of training/validation loss and accuracy metrics.\n",
        "  \"\"\"\n",
        "  loss = history.history['loss']\n",
        "  val_loss = history.history['val_loss']\n",
        "\n",
        "  accuracy = history.history['accuracy']\n",
        "  val_accuracy = history.history['val_accuracy']\n",
        "\n",
        "  epochs = range(len(history.history['loss']))\n",
        "\n",
        "  #Plot loss\n",
        "\n",
        "  plt.plot(epochs, loss, label='training_loss')\n",
        "  plt.plot(epochs, val_loss, label='val_loss')\n",
        "  plt.title('Loss')\n",
        "  plt.xlabel('Epochs')\n",
        "  plt.legend()\n",
        "\n",
        "  #Plot accuracy\n",
        "  plt.figure()\n",
        "  plt.plot(epochs, accuracy, label='training_accuracy')\n",
        "  plt.plot(epochs, val_accuracy, label='val_accuracy')\n",
        "  plt.title('Accuracy')\n",
        "  plt.xlabel('Epochs')\n",
        "  plt.legend();\n",
        "\n",
        "plot_loss_curves(history_0)"
      ],
      "metadata": {
        "colab": {
          "base_uri": "https://localhost:8080/",
          "height": 927
        },
        "id": "LOftR3O8g18i",
        "outputId": "37cc3957-935f-4f5a-81c8-abe9da798149"
      },
      "execution_count": 21,
      "outputs": [
        {
          "output_type": "display_data",
          "data": {
            "text/plain": [
              "<Figure size 640x480 with 1 Axes>"
            ],
            "image/png": "[encoded data removed]"
          },
          "metadata": {}
        },
        {
          "output_type": "display_data",
          "data": {
            "text/plain": [
              "<Figure size 640x480 with 1 Axes>"
            ],
            "image/png": "[encoded data removed]"
          },
          "metadata": {}
        }
      ]
    },
    {
      "cell_type": "code",
      "source": [],
      "metadata": {
        "id": "RqiR6a-umxTD"
      },
      "execution_count": null,
      "outputs": []
    }
  ]
}