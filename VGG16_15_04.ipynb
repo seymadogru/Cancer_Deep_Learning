{
  "nbformat": 4,
  "nbformat_minor": 0,
  "metadata": {
    "colab": {
      "provenance": [],
      "machine_shape": "hm",
      "gpuType": "T4"
    },
    "kernelspec": {
      "name": "python3",
      "display_name": "Python 3"
    },
    "language_info": {
      "name": "python"
    },
    "accelerator": "GPU"
  },
  "cells": [
    {
      "cell_type": "code",
      "execution_count": 1,
      "metadata": {
        "colab": {
          "base_uri": "https://localhost:8080/"
        },
        "id": "DTpRQgzBy5Zj",
        "outputId": "f3987c98-e8a2-4c8f-eb25-b0b289533df9"
      },
      "outputs": [
        {
          "output_type": "stream",
          "name": "stdout",
          "text": [
            "Mounted at /content/drive\n"
          ]
        }
      ],
      "source": [
        "from google.colab import drive\n",
        "drive.mount('/content/drive')"
      ]
    },
    {
      "cell_type": "code",
      "source": [
        "from tensorflow.keras.preprocessing.image import ImageDataGenerator\n",
        "from tensorflow.keras.preprocessing.image import img_to_array\n",
        "from tensorflow.keras.preprocessing.image import load_img\n",
        "import numpy as np\n",
        "import random\n",
        "import math\n",
        "import csv\n",
        "import cv2\n",
        "import os\n",
        "from keras.utils import to_categorical\n",
        "from sklearn.preprocessing import LabelEncoder\n",
        "from sklearn.metrics import confusion_matrix\n",
        "from sklearn.metrics import mean_squared_error\n",
        "import tensorflow as tf\n",
        "from tensorflow.keras.models import Sequential\n",
        "from tensorflow.keras.layers import BatchNormalization\n",
        "from tensorflow.keras.layers import Conv2D\n",
        "from tensorflow.keras.layers import MaxPooling2D\n",
        "from tensorflow.keras.layers import MaxPool2D\n",
        "from tensorflow.keras.layers import Activation\n",
        "from tensorflow.keras.layers import Flatten\n",
        "from tensorflow.keras.layers import Dropout\n",
        "from tensorflow.keras.layers import Dense\n",
        "from tensorflow.keras.optimizers import Adam\n",
        "from tensorflow.keras.optimizers import SGD\n",
        ""
      ],
      "metadata": {
        "id": "2XP5CVJTzHqb"
      },
      "execution_count": 2,
      "outputs": []
    },
    {
      "cell_type": "code",
      "source": [
        "inputBasePath = \"/content/drive/MyDrive/CDD-CESM_last\"\n",
        "outputBasePath = \"/content/drive/MyDrive/imagearraynew\""
      ],
      "metadata": {
        "id": "G6prmqbuzRR6"
      },
      "execution_count": 3,
      "outputs": []
    },
    {
      "cell_type": "code",
      "source": [
        "image_width = 224\n",
        "image_height = 224"
      ],
      "metadata": {
        "id": "PFnNgIlj1eqZ"
      },
      "execution_count": 4,
      "outputs": []
    },
    {
      "cell_type": "code",
      "source": [
        "classes = ['Benign','Malignant','Normal']"
      ],
      "metadata": {
        "id": "C5yYaPTz1hpc"
      },
      "execution_count": 5,
      "outputs": []
    },
    {
      "cell_type": "code",
      "source": [
        "os.chdir(inputBasePath)"
      ],
      "metadata": {
        "id": "cEDOXp0u1j5L"
      },
      "execution_count": 6,
      "outputs": []
    },
    {
      "cell_type": "code",
      "source": [
        "X = []\n",
        "Y = []"
      ],
      "metadata": {
        "id": "beHwSEdz1oC0"
      },
      "execution_count": 7,
      "outputs": []
    },
    {
      "cell_type": "code",
      "source": [
        "i = 0\n",
        "for class1 in classes:\n",
        "  os.chdir(class1)\n",
        "  print('=> '+class1)\n",
        "  for files in os.listdir('./'):\n",
        "    img = cv2.imread(files)\n",
        "    img = cv2.resize(img, (image_width,image_height))\n",
        "    X.append(img)\n",
        "    Y.append(class1)\n",
        "    i = i + 1\n",
        "  os.chdir('..')"
      ],
      "metadata": {
        "colab": {
          "base_uri": "https://localhost:8080/"
        },
        "id": "j-C60VEt1qod",
        "outputId": "b4bcc1e1-6850-449f-f746-a5048ff4cdfe"
      },
      "execution_count": 8,
      "outputs": [
        {
          "output_type": "stream",
          "name": "stdout",
          "text": [
            "=> Benign\n",
            "=> Malignant\n",
            "=> Normal\n"
          ]
        }
      ]
    },
    {
      "cell_type": "code",
      "source": [
        "print(\"X : \",len(X))\n",
        "print(\"Y : \",len(Y))"
      ],
      "metadata": {
        "colab": {
          "base_uri": "https://localhost:8080/"
        },
        "id": "jy1tdm841swD",
        "outputId": "685c950e-f7d2-45da-90d2-c4a02b489ef1"
      },
      "execution_count": 9,
      "outputs": [
        {
          "output_type": "stream",
          "name": "stdout",
          "text": [
            "X :  17006\n",
            "Y :  17006\n"
          ]
        }
      ]
    },
    {
      "cell_type": "code",
      "source": [
        "X = np.array(X).reshape(-1,image_width,image_height,3)\n",
        "\n",
        "Y = np.array(Y)\n",
        "\n",
        "print(\"X : \",X.shape)\n",
        "print(\"Y : \",Y.shape)\n",
        "\n",
        "print(\"X : \",len(X))\n",
        "print(\"Y : \",len(Y))"
      ],
      "metadata": {
        "colab": {
          "base_uri": "https://localhost:8080/"
        },
        "id": "y1ZhrUP76uP0",
        "outputId": "ad516ec5-4ed2-45a5-d2ff-25c91f9a4f7d"
      },
      "execution_count": 10,
      "outputs": [
        {
          "output_type": "stream",
          "name": "stdout",
          "text": [
            "X :  (17006, 224, 224, 3)\n",
            "Y :  (17006,)\n",
            "X :  17006\n",
            "Y :  17006\n"
          ]
        }
      ]
    },
    {
      "cell_type": "code",
      "source": [
        "os.chdir('..')"
      ],
      "metadata": {
        "id": "uF4clhP66x3K"
      },
      "execution_count": 11,
      "outputs": []
    },
    {
      "cell_type": "code",
      "source": [
        "os.chdir(\"imagearraynew\")"
      ],
      "metadata": {
        "id": "aEiWFNif62eG"
      },
      "execution_count": 12,
      "outputs": []
    },
    {
      "cell_type": "code",
      "source": [
        "np.save(str(image_width)+'x'+str(image_height)+'_images', X)\n",
        "\n",
        "np.save(str(image_width)+'x'+str(image_height)+'_labels', Y)\n",
        "\n",
        "print(\"[ INFO - STAGE1 ]  NUMPY ARRAY CREATION COMPLETED \\n \")"
      ],
      "metadata": {
        "colab": {
          "base_uri": "https://localhost:8080/"
        },
        "id": "5G-kB26w643s",
        "outputId": "a9579dca-ffb1-44e4-92f8-caa914edee19"
      },
      "execution_count": 13,
      "outputs": [
        {
          "output_type": "stream",
          "name": "stdout",
          "text": [
            "[ INFO - STAGE1 ]  NUMPY ARRAY CREATION COMPLETED \n",
            " \n"
          ]
        }
      ]
    },
    {
      "cell_type": "code",
      "source": [
        "from sklearn.metrics import classification_report\n",
        "from sklearn.model_selection import train_test_split\n",
        "from tensorflow.keras import utils\n",
        "utils.to_categorical"
      ],
      "metadata": {
        "colab": {
          "base_uri": "https://localhost:8080/",
          "height": 187
        },
        "id": "YMIb2o9V67jA",
        "outputId": "1a48f68f-ccf6-487d-fe67-eec8a1f9ad8e"
      },
      "execution_count": 14,
      "outputs": [
        {
          "output_type": "execute_result",
          "data": {
            "text/plain": [
              "<function keras.src.utils.np_utils.to_categorical(y, num_classes=None, dtype='float32')>"
            ],
            "text/html": [
              "<div style=\"max-width:800px; border: 1px solid var(--colab-border-color);\"><style>\n",
              "      pre.function-repr-contents {\n",
              "        overflow-x: auto;\n",
              "        padding: 8px 12px;\n",
              "        max-height: 500px;\n",
              "      }\n",
              "\n",
              "      pre.function-repr-contents.function-repr-contents-collapsed {\n",
              "        cursor: pointer;\n",
              "        max-height: 100px;\n",
              "      }\n",
              "    </style>\n",
              "    <pre style=\"white-space: initial; background:\n",
              "         var(--colab-secondary-surface-color); padding: 8px 12px;\n",
              "         border-bottom: 1px solid var(--colab-border-color);\"><b>keras.src.utils.np_utils.to_categorical</b><br/>def to_categorical(y, num_classes=None, dtype=&#x27;float32&#x27;)</pre><pre class=\"function-repr-contents function-repr-contents-collapsed\" style=\"\"><a class=\"filepath\" style=\"display:none\" href=\"#\">/usr/local/lib/python3.10/dist-packages/keras/src/utils/np_utils.py</a>Converts a class vector (integers) to binary class matrix.\n",
              "\n",
              "E.g. for use with `categorical_crossentropy`.\n",
              "\n",
              "Args:\n",
              "    y: Array-like with class values to be converted into a matrix\n",
              "        (integers from 0 to `num_classes - 1`).\n",
              "    num_classes: Total number of classes. If `None`, this would be inferred\n",
              "      as `max(y) + 1`.\n",
              "    dtype: The data type expected by the input. Default: `&#x27;float32&#x27;`.\n",
              "\n",
              "Returns:\n",
              "    A binary matrix representation of the input as a NumPy array. The class\n",
              "    axis is placed last.\n",
              "\n",
              "Example:\n",
              "\n",
              "&gt;&gt;&gt; a = tf.keras.utils.to_categorical([0, 1, 2, 3], num_classes=4)\n",
              "&gt;&gt;&gt; print(a)\n",
              "[[1. 0. 0. 0.]\n",
              " [0. 1. 0. 0.]\n",
              " [0. 0. 1. 0.]\n",
              " [0. 0. 0. 1.]]\n",
              "\n",
              "&gt;&gt;&gt; b = tf.constant([.9, .04, .03, .03,\n",
              "...                  .3, .45, .15, .13,\n",
              "...                  .04, .01, .94, .05,\n",
              "...                  .12, .21, .5, .17],\n",
              "...                 shape=[4, 4])\n",
              "&gt;&gt;&gt; loss = tf.keras.backend.categorical_crossentropy(a, b)\n",
              "&gt;&gt;&gt; print(np.around(loss, 5))\n",
              "[0.10536 0.82807 0.1011  1.77196]\n",
              "\n",
              "&gt;&gt;&gt; loss = tf.keras.backend.categorical_crossentropy(a, a)\n",
              "&gt;&gt;&gt; print(np.around(loss, 5))\n",
              "[0. 0. 0. 0.]</pre>\n",
              "      <script>\n",
              "      if (google.colab.kernel.accessAllowed && google.colab.files && google.colab.files.view) {\n",
              "        for (const element of document.querySelectorAll('.filepath')) {\n",
              "          element.style.display = 'block'\n",
              "          element.onclick = (event) => {\n",
              "            event.preventDefault();\n",
              "            event.stopPropagation();\n",
              "            google.colab.files.view(element.textContent, 23);\n",
              "          };\n",
              "        }\n",
              "      }\n",
              "      for (const element of document.querySelectorAll('.function-repr-contents')) {\n",
              "        element.onclick = (event) => {\n",
              "          event.preventDefault();\n",
              "          event.stopPropagation();\n",
              "          element.classList.toggle('function-repr-contents-collapsed');\n",
              "        };\n",
              "      }\n",
              "      </script>\n",
              "      </div>"
            ]
          },
          "metadata": {},
          "execution_count": 14
        }
      ]
    },
    {
      "cell_type": "code",
      "source": [
        "data = np.load('/content/drive/MyDrive/imagearraynew/224x224_images.npy')\n",
        "labels = np.load('/content/drive/MyDrive/imagearraynew/224x224_labels.npy')\n",
        "data.shape"
      ],
      "metadata": {
        "colab": {
          "base_uri": "https://localhost:8080/"
        },
        "id": "RJvAx_bB7PkI",
        "outputId": "aa705537-7841-47b0-ade7-4da1104314e3"
      },
      "execution_count": 15,
      "outputs": [
        {
          "output_type": "execute_result",
          "data": {
            "text/plain": [
              "(17006, 224, 224, 3)"
            ]
          },
          "metadata": {},
          "execution_count": 15
        }
      ]
    },
    {
      "cell_type": "code",
      "source": [
        "labelEn = LabelEncoder()\n",
        "labels = labelEn.fit_transform(labels)\n",
        "labels = to_categorical(labels)"
      ],
      "metadata": {
        "id": "UwyS6xA57SnJ"
      },
      "execution_count": 16,
      "outputs": []
    },
    {
      "cell_type": "code",
      "source": [
        "data =  data.reshape(-1,image_width , image_height , 3)"
      ],
      "metadata": {
        "id": "GYiCGo0i7XZH"
      },
      "execution_count": 17,
      "outputs": []
    },
    {
      "cell_type": "code",
      "source": [
        "x_train, x_test, y_train, y_test = train_test_split(data, labels, test_size = .05, shuffle = True)"
      ],
      "metadata": {
        "id": "iLZjG3NS7Zdz"
      },
      "execution_count": 18,
      "outputs": []
    },
    {
      "cell_type": "code",
      "source": [
        "print(\n",
        "\"\"\"\n",
        "x_train shape: {}\n",
        "x_test shape: {}\n",
        "y_train shape: {}\n",
        "y_test shape: {}\n",
        "\n",
        "\"\"\".format(x_train.shape, x_test.shape, y_train.shape, y_test.shape))"
      ],
      "metadata": {
        "colab": {
          "base_uri": "https://localhost:8080/"
        },
        "id": "6O3R06Vq7c50",
        "outputId": "0e2048aa-7dc5-4491-d3b4-6075e682f46b"
      },
      "execution_count": 19,
      "outputs": [
        {
          "output_type": "stream",
          "name": "stdout",
          "text": [
            "\n",
            "x_train shape: (16155, 224, 224, 3)\n",
            "x_test shape: (851, 224, 224, 3)\n",
            "y_train shape: (16155, 3)\n",
            "y_test shape: (851, 3)\n",
            "\n",
            "\n"
          ]
        }
      ]
    },
    {
      "cell_type": "code",
      "source": [
        "x_train, x_validate, y_train, y_validate = train_test_split(x_train, y_train, test_size = .05, shuffle = True,random_state=42)"
      ],
      "metadata": {
        "id": "jSEBbsXf7fUw"
      },
      "execution_count": 20,
      "outputs": []
    },
    {
      "cell_type": "code",
      "source": [
        "print(y_train.shape)\n",
        "print(y_validate.shape)"
      ],
      "metadata": {
        "colab": {
          "base_uri": "https://localhost:8080/"
        },
        "id": "Zc8aFgCn7ioY",
        "outputId": "ae7ce7e8-ef93-4369-d82b-e0141bf6f461"
      },
      "execution_count": 21,
      "outputs": [
        {
          "output_type": "stream",
          "name": "stdout",
          "text": [
            "(15347, 3)\n",
            "(808, 3)\n"
          ]
        }
      ]
    },
    {
      "cell_type": "code",
      "source": [
        "!pip install keras\n",
        "import keras"
      ],
      "metadata": {
        "colab": {
          "base_uri": "https://localhost:8080/"
        },
        "id": "SSiyz8Qj7lbM",
        "outputId": "0226e11a-f3f8-466f-e21f-b649bc19cd33"
      },
      "execution_count": 22,
      "outputs": [
        {
          "output_type": "stream",
          "name": "stdout",
          "text": [
            "Requirement already satisfied: keras in /usr/local/lib/python3.10/dist-packages (2.15.0)\n"
          ]
        }
      ]
    },
    {
      "cell_type": "code",
      "source": [
        "from keras.applications.vgg16 import VGG16, preprocess_input"
      ],
      "metadata": {
        "id": "xs4Ml6zV7nlv"
      },
      "execution_count": 23,
      "outputs": []
    },
    {
      "cell_type": "code",
      "source": [
        "import tensorflow as tf\n",
        "from tensorflow.keras import layers"
      ],
      "metadata": {
        "id": "Zoy3sxR98lP-"
      },
      "execution_count": 24,
      "outputs": []
    },
    {
      "cell_type": "code",
      "source": [
        "tf_model = VGG16(weights='imagenet', include_top=False, input_shape=(224, 224, 3))\n",
        "tf_model.trainable = False\n",
        "inputs = layers.Input(shape=(224, 224, 3), name='image_input')\n",
        "scaling = tf.keras.layers.experimental.preprocessing.Rescaling(1./255)\n",
        "x = scaling(inputs)\n",
        "x = tf_model(x,training=False)\n",
        "x = layers.GlobalAveragePooling2D(name='Flatten')(x)\n",
        "x = layers.Dense(1024, activation='relu', name='Dense_1')(x)\n",
        "outputs = layers.Dense(3, activation='softmax', name='Predictions')(x)\n",
        "model_vgg = tf.keras.Model(inputs, outputs)\n",
        "model_vgg.compile(loss='categorical_crossentropy', optimizer=tf.keras.optimizers.Adam(0.0001), metrics=['accuracy'])\n",
        "callback = tf.keras.callbacks.EarlyStopping(monitor='val_loss', patience=3)"
      ],
      "metadata": {
        "id": "oLXNjZTf7v-G"
      },
      "execution_count": 26,
      "outputs": []
    },
    {
      "cell_type": "code",
      "source": [
        "history_vgg = model_vgg.fit(x_train, y_train, epochs=80, batch_size = 16, validation_data=(x_validate, y_validate), callbacks=[callback])"
      ],
      "metadata": {
        "colab": {
          "base_uri": "https://localhost:8080/"
        },
        "id": "aXDMi9L_93W9",
        "outputId": "9871bf84-13a2-40f8-b8b6-083f3b995fa9"
      },
      "execution_count": 27,
      "outputs": [
        {
          "output_type": "stream",
          "name": "stdout",
          "text": [
            "Epoch 1/80\n",
            "960/960 [==============================] - 78s 74ms/step - loss: 1.0584 - accuracy: 0.4318 - val_loss: 1.0508 - val_accuracy: 0.4233\n",
            "Epoch 2/80\n",
            "960/960 [==============================] - 66s 69ms/step - loss: 1.0229 - accuracy: 0.4734 - val_loss: 1.0462 - val_accuracy: 0.4480\n",
            "Epoch 3/80\n",
            "960/960 [==============================] - 66s 69ms/step - loss: 1.0036 - accuracy: 0.4959 - val_loss: 1.0847 - val_accuracy: 0.4134\n",
            "Epoch 4/80\n",
            "960/960 [==============================] - 66s 68ms/step - loss: 0.9907 - accuracy: 0.5039 - val_loss: 1.0205 - val_accuracy: 0.4926\n",
            "Epoch 5/80\n",
            "960/960 [==============================] - 65s 68ms/step - loss: 0.9803 - accuracy: 0.5142 - val_loss: 1.0536 - val_accuracy: 0.4480\n",
            "Epoch 6/80\n",
            "960/960 [==============================] - 65s 68ms/step - loss: 0.9752 - accuracy: 0.5155 - val_loss: 1.0131 - val_accuracy: 0.4913\n",
            "Epoch 7/80\n",
            "960/960 [==============================] - 65s 68ms/step - loss: 0.9688 - accuracy: 0.5194 - val_loss: 1.0058 - val_accuracy: 0.4938\n",
            "Epoch 8/80\n",
            "960/960 [==============================] - 65s 68ms/step - loss: 0.9616 - accuracy: 0.5219 - val_loss: 1.0033 - val_accuracy: 0.4889\n",
            "Epoch 9/80\n",
            "960/960 [==============================] - 65s 68ms/step - loss: 0.9576 - accuracy: 0.5280 - val_loss: 1.0023 - val_accuracy: 0.4913\n",
            "Epoch 10/80\n",
            "960/960 [==============================] - 65s 68ms/step - loss: 0.9539 - accuracy: 0.5327 - val_loss: 1.0045 - val_accuracy: 0.4864\n",
            "Epoch 11/80\n",
            "960/960 [==============================] - 65s 68ms/step - loss: 0.9486 - accuracy: 0.5355 - val_loss: 0.9995 - val_accuracy: 0.4938\n",
            "Epoch 12/80\n",
            "960/960 [==============================] - 67s 70ms/step - loss: 0.9449 - accuracy: 0.5358 - val_loss: 1.0290 - val_accuracy: 0.4728\n",
            "Epoch 13/80\n",
            "960/960 [==============================] - 67s 70ms/step - loss: 0.9391 - accuracy: 0.5405 - val_loss: 0.9976 - val_accuracy: 0.4901\n",
            "Epoch 14/80\n",
            "960/960 [==============================] - 68s 70ms/step - loss: 0.9350 - accuracy: 0.5451 - val_loss: 0.9900 - val_accuracy: 0.5099\n",
            "Epoch 15/80\n",
            "960/960 [==============================] - 67s 70ms/step - loss: 0.9331 - accuracy: 0.5465 - val_loss: 0.9888 - val_accuracy: 0.5062\n",
            "Epoch 16/80\n",
            "960/960 [==============================] - 67s 70ms/step - loss: 0.9282 - accuracy: 0.5478 - val_loss: 0.9827 - val_accuracy: 0.5000\n",
            "Epoch 17/80\n",
            "960/960 [==============================] - 67s 70ms/step - loss: 0.9258 - accuracy: 0.5483 - val_loss: 0.9884 - val_accuracy: 0.5136\n",
            "Epoch 18/80\n",
            "960/960 [==============================] - 68s 71ms/step - loss: 0.9224 - accuracy: 0.5539 - val_loss: 0.9811 - val_accuracy: 0.5062\n",
            "Epoch 19/80\n",
            "960/960 [==============================] - 67s 70ms/step - loss: 0.9181 - accuracy: 0.5554 - val_loss: 0.9956 - val_accuracy: 0.5136\n",
            "Epoch 20/80\n",
            "960/960 [==============================] - 67s 70ms/step - loss: 0.9143 - accuracy: 0.5577 - val_loss: 0.9786 - val_accuracy: 0.5025\n",
            "Epoch 21/80\n",
            "960/960 [==============================] - 67s 70ms/step - loss: 0.9093 - accuracy: 0.5641 - val_loss: 0.9803 - val_accuracy: 0.5186\n",
            "Epoch 22/80\n",
            "960/960 [==============================] - 66s 69ms/step - loss: 0.9075 - accuracy: 0.5613 - val_loss: 0.9903 - val_accuracy: 0.5149\n",
            "Epoch 23/80\n",
            "960/960 [==============================] - 66s 68ms/step - loss: 0.9025 - accuracy: 0.5662 - val_loss: 0.9714 - val_accuracy: 0.5223\n",
            "Epoch 24/80\n",
            "960/960 [==============================] - 65s 68ms/step - loss: 0.9002 - accuracy: 0.5720 - val_loss: 0.9708 - val_accuracy: 0.5309\n",
            "Epoch 25/80\n",
            "960/960 [==============================] - 65s 68ms/step - loss: 0.8959 - accuracy: 0.5689 - val_loss: 0.9728 - val_accuracy: 0.5272\n",
            "Epoch 26/80\n",
            "960/960 [==============================] - 65s 68ms/step - loss: 0.8922 - accuracy: 0.5748 - val_loss: 0.9591 - val_accuracy: 0.5421\n",
            "Epoch 27/80\n",
            "960/960 [==============================] - 65s 68ms/step - loss: 0.8895 - accuracy: 0.5724 - val_loss: 0.9673 - val_accuracy: 0.5173\n",
            "Epoch 28/80\n",
            "960/960 [==============================] - 65s 68ms/step - loss: 0.8860 - accuracy: 0.5787 - val_loss: 0.9541 - val_accuracy: 0.5421\n",
            "Epoch 29/80\n",
            "960/960 [==============================] - 65s 68ms/step - loss: 0.8803 - accuracy: 0.5813 - val_loss: 0.9583 - val_accuracy: 0.5124\n",
            "Epoch 30/80\n",
            "960/960 [==============================] - 65s 68ms/step - loss: 0.8762 - accuracy: 0.5874 - val_loss: 0.9469 - val_accuracy: 0.5359\n",
            "Epoch 31/80\n",
            "960/960 [==============================] - 66s 68ms/step - loss: 0.8732 - accuracy: 0.5854 - val_loss: 0.9520 - val_accuracy: 0.5384\n",
            "Epoch 32/80\n",
            "960/960 [==============================] - 68s 70ms/step - loss: 0.8693 - accuracy: 0.5918 - val_loss: 0.9464 - val_accuracy: 0.5495\n",
            "Epoch 33/80\n",
            "960/960 [==============================] - 67s 70ms/step - loss: 0.8664 - accuracy: 0.5943 - val_loss: 0.9709 - val_accuracy: 0.5087\n",
            "Epoch 34/80\n",
            "960/960 [==============================] - 67s 70ms/step - loss: 0.8631 - accuracy: 0.5911 - val_loss: 0.9426 - val_accuracy: 0.5421\n",
            "Epoch 35/80\n",
            "960/960 [==============================] - 67s 70ms/step - loss: 0.8625 - accuracy: 0.5927 - val_loss: 0.9368 - val_accuracy: 0.5631\n",
            "Epoch 36/80\n",
            "960/960 [==============================] - 67s 70ms/step - loss: 0.8550 - accuracy: 0.5973 - val_loss: 0.9752 - val_accuracy: 0.5297\n",
            "Epoch 37/80\n",
            "960/960 [==============================] - 67s 70ms/step - loss: 0.8531 - accuracy: 0.5982 - val_loss: 0.9463 - val_accuracy: 0.5297\n",
            "Epoch 38/80\n",
            "960/960 [==============================] - 68s 70ms/step - loss: 0.8508 - accuracy: 0.6013 - val_loss: 0.9432 - val_accuracy: 0.5545\n"
          ]
        }
      ]
    },
    {
      "cell_type": "code",
      "source": [
        "import matplotlib.pyplot as plt\n",
        "plt.plot(history_vgg.history['accuracy'])\n",
        "plt.plot(history_vgg.history['val_accuracy'])\n",
        "plt.title('model accuracy')\n",
        "plt.ylabel('accuracy')\n",
        "plt.xlabel('epoch')\n",
        "plt.legend(['train', 'test'], loc='upper left')\n",
        "plt.show()\n",
        "plt.plot(history_vgg.history['loss'])\n",
        "plt.plot(history_vgg.history['val_loss'])\n",
        "plt.title('model loss')\n",
        "plt.ylabel('loss')\n",
        "plt.xlabel('epoch')\n",
        "plt.legend(['train', 'test'], loc='upper left')\n",
        "plt.show()"
      ],
      "metadata": {
        "colab": {
          "base_uri": "https://localhost:8080/",
          "height": 927
        },
        "id": "VU3r0v-g-QWo",
        "outputId": "2302430b-477b-46e7-8aae-0395cd17d51f"
      },
      "execution_count": 33,
      "outputs": [
        {
          "output_type": "display_data",
          "data": {
            "text/plain": [
              "<Figure size 640x480 with 1 Axes>"
            ],
            "image/png": "[encoded data removed]"
          },
          "metadata": {}
        },
        {
          "output_type": "display_data",
          "data": {
            "text/plain": [
              "<Figure size 640x480 with 1 Axes>"
            ],
            "image/png": "[encoded data removed]"
          },
          "metadata": {}
        }
      ]
    },
    {
      "cell_type": "code",
      "source": [],
      "metadata": {
        "id": "itSabi9NI53F"
      },
      "execution_count": null,
      "outputs": []
    }
  ]
}