{
  "nbformat": 4,
  "nbformat_minor": 0,
  "metadata": {
    "colab": {
      "provenance": [],
      "machine_shape": "hm",
      "gpuType": "T4"
    },
    "kernelspec": {
      "name": "python3",
      "display_name": "Python 3"
    },
    "language_info": {
      "name": "python"
    },
    "accelerator": "GPU"
  },
  "cells": [
    {
      "cell_type": "code",
      "execution_count": 1,
      "metadata": {
        "colab": {
          "base_uri": "https://localhost:8080/"
        },
        "id": "LNumc3z1LqLs",
        "outputId": "dd93d502-a1bc-499e-fff2-cb4592dd2fda"
      },
      "outputs": [
        {
          "output_type": "stream",
          "name": "stdout",
          "text": [
            "Wed May  8 18:40:23 2024       \n",
            "+---------------------------------------------------------------------------------------+\n",
            "| NVIDIA-SMI 535.104.05             Driver Version: 535.104.05   CUDA Version: 12.2     |\n",
            "|-----------------------------------------+----------------------+----------------------+\n",
            "| GPU  Name                 Persistence-M | Bus-Id        Disp.A | Volatile Uncorr. ECC |\n",
            "| Fan  Temp   Perf          Pwr:Usage/Cap |         Memory-Usage | GPU-Util  Compute M. |\n",
            "|                                         |                      |               MIG M. |\n",
            "|=========================================+======================+======================|\n",
            "|   0  Tesla T4                       Off | 00000000:00:04.0 Off |                    0 |\n",
            "| N/A   35C    P8               9W /  70W |      0MiB / 15360MiB |      0%      Default |\n",
            "|                                         |                      |                  N/A |\n",
            "+-----------------------------------------+----------------------+----------------------+\n",
            "                                                                                         \n",
            "+---------------------------------------------------------------------------------------+\n",
            "| Processes:                                                                            |\n",
            "|  GPU   GI   CI        PID   Type   Process name                            GPU Memory |\n",
            "|        ID   ID                                                             Usage      |\n",
            "|=======================================================================================|\n",
            "|  No running processes found                                                           |\n",
            "+---------------------------------------------------------------------------------------+\n"
          ]
        }
      ],
      "source": [
        "#   Are we using a GPU?\n",
        "!nvidia-smi"
      ]
    },
    {
      "cell_type": "code",
      "source": [
        "import os\n",
        "\n",
        "for dirpath, dirnames, filenames in os.walk(\"/content/drive/MyDrive/2_datas_2_Class\"):\n",
        "  print(f\"There are {len(dirnames)} directories and {len(filenames)} images in '{dirpath}'.\")\n"
      ],
      "metadata": {
        "colab": {
          "base_uri": "https://localhost:8080/"
        },
        "id": "tVT4shPYMmT2",
        "outputId": "6a0a90c8-5d8e-4b56-bfe7-31b264389bff"
      },
      "execution_count": 2,
      "outputs": [
        {
          "output_type": "stream",
          "name": "stdout",
          "text": [
            "There are 2 directories and 0 images in '/content/drive/MyDrive/2_datas_2_Class'.\n",
            "There are 2 directories and 0 images in '/content/drive/MyDrive/2_datas_2_Class/Test'.\n",
            "There are 0 directories and 107 images in '/content/drive/MyDrive/2_datas_2_Class/Test/Benign'.\n",
            "There are 0 directories and 144 images in '/content/drive/MyDrive/2_datas_2_Class/Test/Malignant'.\n",
            "There are 2 directories and 0 images in '/content/drive/MyDrive/2_datas_2_Class/Train'.\n",
            "There are 0 directories and 568 images in '/content/drive/MyDrive/2_datas_2_Class/Train/Benign'.\n",
            "There are 0 directories and 796 images in '/content/drive/MyDrive/2_datas_2_Class/Train/Malignant'.\n"
          ]
        }
      ]
    },
    {
      "cell_type": "code",
      "source": [
        "from tensorflow.keras.preprocessing.image import ImageDataGenerator\n",
        "\n",
        "IMAGE_SHAPE = (224, 224)\n",
        "BATCH_SIZE = 32\n",
        "\n",
        "train_dir = \"/content/drive/MyDrive/2_datas_2_Class/Train\"\n",
        "test_dir = \"/content/drive/MyDrive/2_datas_2_Class/Test\"\n",
        "\n",
        "train_datagen = ImageDataGenerator(rescale=1/255.)\n",
        "test_datagen = ImageDataGenerator(rescale=1/255.)\n",
        "\n",
        "print(\"Training images:\")\n",
        "train_data_cancer = train_datagen.flow_from_directory(train_dir,\n",
        "                                               target_size=IMAGE_SHAPE,\n",
        "                                               batch_size=BATCH_SIZE,\n",
        "                                               class_mode=\"binary\")\n",
        "\n",
        "print(\"Testing images:\")\n",
        "test_data_cancer = test_datagen.flow_from_directory(test_dir,\n",
        "                                              target_size=IMAGE_SHAPE,\n",
        "                                              batch_size=BATCH_SIZE,\n",
        "                                              class_mode=\"binary\")"
      ],
      "metadata": {
        "colab": {
          "base_uri": "https://localhost:8080/"
        },
        "id": "IG2cnIn-Mx_t",
        "outputId": "f24275ff-ba6f-436a-ad3e-5f5aada0ba6b"
      },
      "execution_count": 3,
      "outputs": [
        {
          "output_type": "stream",
          "name": "stdout",
          "text": [
            "Training images:\n",
            "Found 1364 images belonging to 2 classes.\n",
            "Testing images:\n",
            "Found 251 images belonging to 2 classes.\n"
          ]
        }
      ]
    },
    {
      "cell_type": "code",
      "source": [
        "#import depencencies\n",
        "import tensorflow as tf\n",
        "import tensorflow_hub as hub\n",
        "from tensorflow.keras import layers"
      ],
      "metadata": {
        "id": "ukmBd9I5ONEc"
      },
      "execution_count": 5,
      "outputs": []
    },
    {
      "cell_type": "code",
      "source": [
        "IMAGE_SHAPE+(3,)"
      ],
      "metadata": {
        "colab": {
          "base_uri": "https://localhost:8080/"
        },
        "id": "JMq5q7W_gro5",
        "outputId": "a8675bbf-a353-4b75-d412-bc9e957f245c"
      },
      "execution_count": 6,
      "outputs": [
        {
          "output_type": "execute_result",
          "data": {
            "text/plain": [
              "(224, 224, 3)"
            ]
          },
          "metadata": {},
          "execution_count": 6
        }
      ]
    },
    {
      "cell_type": "code",
      "source": [
        "#let's make a create_model() function to create a model from a URL\n",
        "def create_model(model_url,num_classes=2):\n",
        "  \"\"\"\n",
        "  Takes a Tensorflow Hub URL and creates a Keras Sequential model with it.\n",
        "\n",
        "  Args:\n",
        "    model_url (str): A Tensorflow Hub feature extraction URL.\n",
        "    num_classes (int): Number of output neurons in the output layer,\n",
        "      should be equal to the number of target classes, default 10.\n",
        "\n",
        "  Returns:\n",
        "    An uncompiled Keras Sequential model with model_url as feature\n",
        "    extractor layer and Dense output layer with num_classes outputs.\n",
        "  \"\"\"\n",
        "  # Download the pretrained model and save it as a Keras Layer\n",
        "  feature_extractor_layer = hub.KerasLayer(model_url,\n",
        "                                           trainable=False, # freeze the already learned patterns\n",
        "                                           name='feature_extraction_layer',\n",
        "                                           input_shape=IMAGE_SHAPE+(3,)) # define the input image shape\n",
        "\n",
        "  #Create our own model\n",
        "  model = tf.keras.Sequential([\n",
        "    feature_extractor_layer,\n",
        "    layers.Dense(num_classes, activation='softmax',name =\"output_layer\")\n",
        "  ])\n",
        "  return model"
      ],
      "metadata": {
        "id": "8MU6nJ1ANZSR"
      },
      "execution_count": 7,
      "outputs": []
    },
    {
      "cell_type": "code",
      "source": [
        "import tensorflow as tf\n",
        "from tensorflow import keras\n",
        "from tensorflow.keras import layers\n",
        "from tensorflow.keras.layers.experimental import preprocessing"
      ],
      "metadata": {
        "id": "hz7g0YwfNzBM"
      },
      "execution_count": 8,
      "outputs": []
    },
    {
      "cell_type": "code",
      "source": [
        "train_data_cancer.class_indices"
      ],
      "metadata": {
        "colab": {
          "base_uri": "https://localhost:8080/"
        },
        "id": "i4vzYtuxg6yT",
        "outputId": "243e0322-c991-42b9-c9a2-6d444db3362e"
      },
      "execution_count": 9,
      "outputs": [
        {
          "output_type": "execute_result",
          "data": {
            "text/plain": [
              "{'Benign': 0, 'Malignant': 1}"
            ]
          },
          "metadata": {},
          "execution_count": 9
        }
      ]
    },
    {
      "cell_type": "code",
      "source": [
        "!pip install opencv-python"
      ],
      "metadata": {
        "colab": {
          "base_uri": "https://localhost:8080/"
        },
        "id": "hmWAq3f4g9jN",
        "outputId": "daaf8f8b-4ce8-427b-b6e5-35ae6d343da7"
      },
      "execution_count": 11,
      "outputs": [
        {
          "output_type": "stream",
          "name": "stdout",
          "text": [
            "Requirement already satisfied: opencv-python in /usr/local/lib/python3.10/dist-packages (4.8.0.76)\n",
            "Requirement already satisfied: numpy>=1.21.2 in /usr/local/lib/python3.10/dist-packages (from opencv-python) (1.25.2)\n"
          ]
        }
      ]
    },
    {
      "cell_type": "code",
      "source": [
        "import cv2"
      ],
      "metadata": {
        "id": "tJfEw13UhAHa"
      },
      "execution_count": 12,
      "outputs": []
    },
    {
      "cell_type": "code",
      "source": [
        "datagen = ImageDataGenerator(\n",
        "    rescale=1.0/255,\n",
        "    rotation_range=45,\n",
        "    width_shift_range=0.3,\n",
        "    height_shift_range=0.3,\n",
        "    shear_range=0.3,\n",
        "    zoom_range=0.3,\n",
        "    brightness_range=[0.5, 1.5],\n",
        "    horizontal_flip=True,\n",
        "    fill_mode='nearest'\n",
        ")\n",
        "image_width = 224\n",
        "image_height = 224\n",
        "classes = ['Benign', 'Malignant']\n",
        "# Resimleri yüklemek için flow_from_directory kullanın\n",
        "train_generator = datagen.flow_from_directory(\n",
        "    directory=\"/content/drive/MyDrive/2_datas_2_Class/Train\",\n",
        "    target_size=(image_width, image_height),\n",
        "    batch_size=32,\n",
        "    class_mode='categorical',\n",
        "    subset='training'\n",
        ")\n",
        "\n",
        "# Her sınıf için resimleri ayrı ayrı arttırın\n",
        "for cls in classes:\n",
        "    # Sınıfın resimlerini yüklemek için flow_from_directory kullanın\n",
        "    cls_generator = datagen.flow_from_directory(\n",
        "        directory=\"/content/drive/MyDrive/2_datas_2_Class/Train\",\n",
        "        target_size=(image_width, image_height),\n",
        "        batch_size=32,\n",
        "        class_mode='categorical',\n",
        "        subset='training',\n",
        "        classes=[cls]\n",
        "    )\n",
        "\n",
        "    # Resimleri arttırın ve kaydedin\n",
        "    i = 0\n",
        "    for batch in cls_generator:\n",
        "        images, labels = batch\n",
        "        for image in images:\n",
        "            # Resmi kaydetmek için imwrite kullanın\n",
        "            cv2.imwrite(os.path.join(\"/content/drive/MyDrive/2_datas_2_Class/Train\", cls, f\"augmented_{i}.jpg\"), image * 255)\n",
        "            i += 1\n",
        "            if i >= 3000:  # Maksimum resim sayısına ulaşıldığında döngüyü durdur\n",
        "                break\n",
        "        else:\n",
        "            continue\n",
        "        break\n",
        "\n"
      ],
      "metadata": {
        "colab": {
          "base_uri": "https://localhost:8080/"
        },
        "id": "-tjyzeIJhGQQ",
        "outputId": "1aaf33cd-bfd0-4f9c-fb7f-b0f28242e7cc"
      },
      "execution_count": 13,
      "outputs": [
        {
          "output_type": "stream",
          "name": "stdout",
          "text": [
            "Found 1364 images belonging to 2 classes.\n",
            "Found 568 images belonging to 1 classes.\n",
            "Found 796 images belonging to 1 classes.\n"
          ]
        }
      ]
    },
    {
      "cell_type": "code",
      "source": [
        "augmented_images = os.listdir(\"/content/drive/MyDrive/2_datas_2_Class/Train/Malignant\")\n",
        "\n",
        "# Count the number of augmented images\n",
        "num_malignant_images = len(augmented_images)\n",
        "\n",
        "# Print the number of malignant images\n",
        "print(\"Number of malignant images:\", num_malignant_images)"
      ],
      "metadata": {
        "colab": {
          "base_uri": "https://localhost:8080/"
        },
        "id": "pLVpdLd8hak1",
        "outputId": "90cc2271-76f4-4520-c4bb-a2ea92e262ee"
      },
      "execution_count": 14,
      "outputs": [
        {
          "output_type": "stream",
          "name": "stdout",
          "text": [
            "Number of malignant images: 3796\n"
          ]
        }
      ]
    },
    {
      "cell_type": "code",
      "source": [
        "augmented_images = os.listdir(\"/content/drive/MyDrive/2_datas_2_Class/Train/Benign\")\n",
        "\n",
        "# Count the number of augmented images\n",
        "num_benign_images = len(augmented_images)\n",
        "\n",
        "# Print the number of benign images\n",
        "print(\"Number of benign images:\", num_benign_images)"
      ],
      "metadata": {
        "colab": {
          "base_uri": "https://localhost:8080/"
        },
        "id": "26YioSyJiGe3",
        "outputId": "58c3c8dc-6b7d-44e8-a88b-3d151ee3b37b"
      },
      "execution_count": 15,
      "outputs": [
        {
          "output_type": "stream",
          "name": "stdout",
          "text": [
            "Number of benign images: 3568\n"
          ]
        }
      ]
    },
    {
      "cell_type": "code",
      "source": [
        "#How many images in each folder?\n",
        "import os\n",
        "\n",
        "for dirpath, dirnames, filenames in os.walk(\"/content/drive/MyDrive/2_datas_2_Class\"):\n",
        "  print(f\"There are {len(dirnames)} directories and {len(filenames)} images in '{dirpath}'.\")"
      ],
      "metadata": {
        "colab": {
          "base_uri": "https://localhost:8080/"
        },
        "id": "JfhkWHb7ihAt",
        "outputId": "c486ee6f-383d-47c3-bd48-a3849f3c8c35"
      },
      "execution_count": 16,
      "outputs": [
        {
          "output_type": "stream",
          "name": "stdout",
          "text": [
            "There are 2 directories and 0 images in '/content/drive/MyDrive/2_datas_2_Class'.\n",
            "There are 2 directories and 0 images in '/content/drive/MyDrive/2_datas_2_Class/Test'.\n",
            "There are 0 directories and 107 images in '/content/drive/MyDrive/2_datas_2_Class/Test/Benign'.\n",
            "There are 0 directories and 144 images in '/content/drive/MyDrive/2_datas_2_Class/Test/Malignant'.\n",
            "There are 2 directories and 0 images in '/content/drive/MyDrive/2_datas_2_Class/Train'.\n",
            "There are 0 directories and 3568 images in '/content/drive/MyDrive/2_datas_2_Class/Train/Benign'.\n",
            "There are 0 directories and 3796 images in '/content/drive/MyDrive/2_datas_2_Class/Train/Malignant'.\n"
          ]
        }
      ]
    },
    {
      "cell_type": "code",
      "source": [
        "from tensorflow.keras.preprocessing.image import ImageDataGenerator\n",
        "\n",
        "IMAGE_SHAPE = (224, 224)\n",
        "BATCH_SIZE = 32\n",
        "\n",
        "train_dir = \"/content/drive/MyDrive/2_datas_2_Class/Train\"\n",
        "test_dir = \"/content/drive/MyDrive/2_datas_2_Class/Test/\"\n",
        "\n",
        "train_datagen = ImageDataGenerator(rescale=1/255.)\n",
        "test_datagen = ImageDataGenerator(rescale=1/255.)\n",
        "\n",
        "print(\"Training images:\")\n",
        "train_data_cancer = train_datagen.flow_from_directory(train_dir,\n",
        "                                               target_size=IMAGE_SHAPE,\n",
        "                                               batch_size=BATCH_SIZE,\n",
        "                                               class_mode=\"binary\")\n",
        "\n",
        "print(\"Testing images:\")\n",
        "test_data_cancer = test_datagen.flow_from_directory(test_dir,\n",
        "                                              target_size=IMAGE_SHAPE,\n",
        "                                              batch_size=BATCH_SIZE,\n",
        "                                              class_mode=\"binary\")"
      ],
      "metadata": {
        "colab": {
          "base_uri": "https://localhost:8080/"
        },
        "id": "sSBY52Lfisq8",
        "outputId": "606b66f2-3810-4031-c544-4a9577e1e977"
      },
      "execution_count": 17,
      "outputs": [
        {
          "output_type": "stream",
          "name": "stdout",
          "text": [
            "Training images:\n",
            "Found 7364 images belonging to 2 classes.\n",
            "Testing images:\n",
            "Found 251 images belonging to 2 classes.\n"
          ]
        }
      ]
    },
    {
      "cell_type": "code",
      "source": [
        "import datetime\n",
        "\n",
        "def create_tensorboard_callback(dir_name,experiment_name):\n",
        "  log_dir = dir_name + \"/\" + experiment_name + \"/\" + datetime.datetime.now().strftime(\"%Y%m%d-%H%M%S\")\n",
        "  tensorboard_callback = tf.keras.callbacks.TensorBoard(\n",
        "      log_dir=log_dir\n",
        "  )\n",
        "  print(f\"Saving TensorBoard log files to: {log_dir}\")\n",
        "  return tensorboard_callback"
      ],
      "metadata": {
        "id": "4K_bSGmJi1X9"
      },
      "execution_count": 18,
      "outputs": []
    },
    {
      "cell_type": "code",
      "source": [
        "IMAGE_SHAPE+(3,)"
      ],
      "metadata": {
        "colab": {
          "base_uri": "https://localhost:8080/"
        },
        "id": "4QF1iPGpi59g",
        "outputId": "d4bf8a43-2b9c-44ea-ea09-14aae01425f9"
      },
      "execution_count": 19,
      "outputs": [
        {
          "output_type": "execute_result",
          "data": {
            "text/plain": [
              "(224, 224, 3)"
            ]
          },
          "metadata": {},
          "execution_count": 19
        }
      ]
    },
    {
      "cell_type": "code",
      "source": [
        "#let's make a create_model() function to create a model from a URL\n",
        "def create_model(model_url,num_classes=2):\n",
        "  \"\"\"\n",
        "  Takes a Tensorflow Hub URL and creates a Keras Sequential model with it.\n",
        "\n",
        "  Args:\n",
        "    model_url (str): A Tensorflow Hub feature extraction URL.\n",
        "    num_classes (int): Number of output neurons in the output layer,\n",
        "      should be equal to the number of target classes, default 10.\n",
        "\n",
        "  Returns:\n",
        "    An uncompiled Keras Sequential model with model_url as feature\n",
        "    extractor layer and Dense output layer with num_classes outputs.\n",
        "  \"\"\"\n",
        "  # Download the pretrained model and save it as a Keras Layer\n",
        "  feature_extractor_layer = hub.KerasLayer(model_url,\n",
        "                                           trainable=False, # freeze the already learned patterns\n",
        "                                           name='feature_extraction_layer',\n",
        "                                           input_shape=IMAGE_SHAPE+(3,)) # define the input image shape\n",
        "\n",
        "  #Create our own model\n",
        "  model = tf.keras.Sequential([\n",
        "    feature_extractor_layer,\n",
        "    layers.Dense(num_classes, activation='softmax',name =\"output_layer\")\n",
        "  ])\n",
        "  return model"
      ],
      "metadata": {
        "id": "Z9Iyv4oei76l"
      },
      "execution_count": 20,
      "outputs": []
    },
    {
      "cell_type": "code",
      "source": [
        "resnet_url = \"https://tfhub.dev/google/imagenet/resnet_v2_50/feature_vector/4\"\n",
        "\n",
        "efficientnet_url = \"https://tfhub.dev/tensorflow/efficientnet/b0/feature-vector/1\""
      ],
      "metadata": {
        "id": "p_b66fgqjD-3"
      },
      "execution_count": 21,
      "outputs": []
    },
    {
      "cell_type": "code",
      "source": [
        "#Create ResNet Model\n",
        "\n",
        "resnet_model = create_model(resnet_url, train_data_cancer.num_classes)\n"
      ],
      "metadata": {
        "id": "xS3qggMLjUs1"
      },
      "execution_count": 22,
      "outputs": []
    },
    {
      "cell_type": "code",
      "source": [
        "#compile our resnet model\n",
        "resnet_model.compile(loss=\"binary_crossentropy\",\n",
        "                     optimizer=tf.keras.optimizers.Adam(),\n",
        "                     metrics=[\"accuracy\"])"
      ],
      "metadata": {
        "id": "h4nUhJIcjX8g"
      },
      "execution_count": 23,
      "outputs": []
    },
    {
      "cell_type": "code",
      "source": [
        "resnet_model.summary()"
      ],
      "metadata": {
        "colab": {
          "base_uri": "https://localhost:8080/"
        },
        "id": "wKQ0LYKEjaop",
        "outputId": "f22bb158-f15e-45fb-8356-e2eb88e4835c"
      },
      "execution_count": 24,
      "outputs": [
        {
          "output_type": "stream",
          "name": "stdout",
          "text": [
            "Model: \"sequential\"\n",
            "_________________________________________________________________\n",
            " Layer (type)                Output Shape              Param #   \n",
            "=================================================================\n",
            " feature_extraction_layer (  (None, 2048)              23564800  \n",
            " KerasLayer)                                                     \n",
            "                                                                 \n",
            " output_layer (Dense)        (None, 2)                 4098      \n",
            "                                                                 \n",
            "=================================================================\n",
            "Total params: 23568898 (89.91 MB)\n",
            "Trainable params: 4098 (16.01 KB)\n",
            "Non-trainable params: 23564800 (89.89 MB)\n",
            "_________________________________________________________________\n"
          ]
        }
      ]
    },
    {
      "cell_type": "code",
      "source": [
        "print(train_data_cancer.labels.shape)\n",
        "print(test_data_cancer.labels.shape)"
      ],
      "metadata": {
        "colab": {
          "base_uri": "https://localhost:8080/"
        },
        "id": "KqsioTBjjc0o",
        "outputId": "a058a2fd-76ab-403e-b21b-c3d024ebb32f"
      },
      "execution_count": 25,
      "outputs": [
        {
          "output_type": "stream",
          "name": "stdout",
          "text": [
            "(7364,)\n",
            "(251,)\n"
          ]
        }
      ]
    },
    {
      "cell_type": "code",
      "source": [
        "resnet_model.add(tf.keras.layers.Dense(1, activation=\"sigmoid\"))"
      ],
      "metadata": {
        "id": "iPocbaExjeKN"
      },
      "execution_count": 26,
      "outputs": []
    },
    {
      "cell_type": "code",
      "source": [
        "#Let's fit our ResNet model to the data\n",
        "resnet_history = resnet_model.fit(train_data_cancer,\n",
        "                                  epochs=20,\n",
        "                                  batch_size=16,\n",
        "                                  steps_per_epoch=len(train_data_cancer),\n",
        "                                  validation_data=test_data_cancer,\n",
        "                                  validation_steps=len(test_data_cancer),\n",
        "                                  callbacks=[create_tensorboard_callback(dir_name=\"transfer_learning\",\n",
        "                                                                experiment_name=\"efficientnetb0_1_percent_data_aug\")])"
      ],
      "metadata": {
        "colab": {
          "base_uri": "https://localhost:8080/"
        },
        "id": "Ntt4QL8XjiVa",
        "outputId": "9e54a51c-fe89-49ce-d0ca-8f9814bccc1b"
      },
      "execution_count": 31,
      "outputs": [
        {
          "output_type": "stream",
          "name": "stdout",
          "text": [
            "Saving TensorBoard log files to: transfer_learning/efficientnetb0_1_percent_data_aug/20240508-192832\n",
            "Epoch 1/20\n",
            "231/231 [==============================] - 56s 242ms/step - loss: 0.4379 - accuracy: 0.8169 - val_loss: 0.7220 - val_accuracy: 0.6375\n",
            "Epoch 2/20\n",
            "231/231 [==============================] - 57s 245ms/step - loss: 0.4429 - accuracy: 0.8131 - val_loss: 0.7383 - val_accuracy: 0.6375\n",
            "Epoch 3/20\n",
            "231/231 [==============================] - 56s 241ms/step - loss: 0.4315 - accuracy: 0.8237 - val_loss: 0.7569 - val_accuracy: 0.6215\n",
            "Epoch 4/20\n",
            "231/231 [==============================] - 58s 250ms/step - loss: 0.4364 - accuracy: 0.8156 - val_loss: 0.7234 - val_accuracy: 0.6295\n",
            "Epoch 5/20\n",
            "231/231 [==============================] - 56s 243ms/step - loss: 0.4309 - accuracy: 0.8232 - val_loss: 0.7556 - val_accuracy: 0.6255\n",
            "Epoch 6/20\n",
            "231/231 [==============================] - 60s 258ms/step - loss: 0.4265 - accuracy: 0.8284 - val_loss: 0.7333 - val_accuracy: 0.6295\n",
            "Epoch 7/20\n",
            "231/231 [==============================] - 58s 249ms/step - loss: 0.4261 - accuracy: 0.8259 - val_loss: 0.7528 - val_accuracy: 0.6215\n",
            "Epoch 8/20\n",
            "231/231 [==============================] - 57s 246ms/step - loss: 0.4214 - accuracy: 0.8317 - val_loss: 0.7476 - val_accuracy: 0.6135\n",
            "Epoch 9/20\n",
            "231/231 [==============================] - 57s 248ms/step - loss: 0.4258 - accuracy: 0.8239 - val_loss: 0.7512 - val_accuracy: 0.6215\n",
            "Epoch 10/20\n",
            "231/231 [==============================] - 57s 246ms/step - loss: 0.4269 - accuracy: 0.8240 - val_loss: 0.7591 - val_accuracy: 0.6135\n",
            "Epoch 11/20\n",
            "231/231 [==============================] - 57s 247ms/step - loss: 0.4260 - accuracy: 0.8266 - val_loss: 0.7547 - val_accuracy: 0.6175\n",
            "Epoch 12/20\n",
            "231/231 [==============================] - 57s 247ms/step - loss: 0.4304 - accuracy: 0.8193 - val_loss: 0.7708 - val_accuracy: 0.6215\n",
            "Epoch 13/20\n",
            "231/231 [==============================] - 57s 245ms/step - loss: 0.4240 - accuracy: 0.8255 - val_loss: 0.7588 - val_accuracy: 0.6295\n",
            "Epoch 14/20\n",
            "231/231 [==============================] - 56s 241ms/step - loss: 0.4151 - accuracy: 0.8334 - val_loss: 0.7544 - val_accuracy: 0.6494\n",
            "Epoch 15/20\n",
            "231/231 [==============================] - 58s 251ms/step - loss: 0.4191 - accuracy: 0.8312 - val_loss: 0.7617 - val_accuracy: 0.6175\n",
            "Epoch 16/20\n",
            "231/231 [==============================] - 60s 259ms/step - loss: 0.4187 - accuracy: 0.8341 - val_loss: 0.7659 - val_accuracy: 0.6255\n",
            "Epoch 17/20\n",
            "231/231 [==============================] - 56s 244ms/step - loss: 0.4249 - accuracy: 0.8256 - val_loss: 0.7814 - val_accuracy: 0.6175\n",
            "Epoch 18/20\n",
            "231/231 [==============================] - 58s 250ms/step - loss: 0.4186 - accuracy: 0.8320 - val_loss: 0.7702 - val_accuracy: 0.6255\n",
            "Epoch 19/20\n",
            "231/231 [==============================] - 58s 253ms/step - loss: 0.4225 - accuracy: 0.8270 - val_loss: 0.7696 - val_accuracy: 0.6295\n",
            "Epoch 20/20\n",
            "231/231 [==============================] - 56s 243ms/step - loss: 0.4123 - accuracy: 0.8377 - val_loss: 0.7702 - val_accuracy: 0.6016\n"
          ]
        }
      ]
    },
    {
      "cell_type": "code",
      "source": [
        "import matplotlib.pyplot as plt\n",
        "\n",
        "def plot_loss_curves(history):\n",
        "  \"\"\"\n",
        "  Returns separate loss curves for training and validation metrics.\n",
        "  Args:\n",
        "    history: TensorFlow History object.\n",
        "\n",
        "    Returns:\n",
        "    Plots of training/validation loss and accuracy metrics.\n",
        "  \"\"\"\n",
        "  loss = history.history['loss']\n",
        "  val_loss = history.history['val_loss']\n",
        "\n",
        "  accuracy = history.history['accuracy']\n",
        "  val_accuracy = history.history['val_accuracy']\n",
        "\n",
        "  epochs = range(len(history.history['loss']))\n",
        "\n",
        "  #Plot loss\n",
        "\n",
        "  plt.plot(epochs, loss, label='training_loss')\n",
        "  plt.plot(epochs, val_loss, label='val_loss')\n",
        "  plt.title('Loss')\n",
        "  plt.xlabel('Epochs')\n",
        "  plt.legend()\n",
        "\n",
        "  #Plot accuracy\n",
        "  plt.figure()\n",
        "  plt.plot(epochs, accuracy, label='training_accuracy')\n",
        "  plt.plot(epochs, val_accuracy, label='val_accuracy')\n",
        "  plt.title('Accuracy')\n",
        "  plt.xlabel('Epochs')\n",
        "  plt.legend();\n",
        "\n",
        "plot_loss_curves(resnet_history)"
      ],
      "metadata": {
        "colab": {
          "base_uri": "https://localhost:8080/",
          "height": 927
        },
        "id": "LENUfODtjkHW",
        "outputId": "0aa927f2-bbf1-4205-fe95-8db53136ca31"
      },
      "execution_count": 32,
      "outputs": [
        {
          "output_type": "display_data",
          "data": {
            "text/plain": [
              "<Figure size 640x480 with 1 Axes>"
            ],
            "image/png": "[encoded data removed]"
          },
          "metadata": {}
        },
        {
          "output_type": "display_data",
          "data": {
            "text/plain": [
              "<Figure size 640x480 with 1 Axes>"
            ],
            "image/png": "[encoded data removed]"
          },
          "metadata": {}
        }
      ]
    },
    {
      "cell_type": "code",
      "source": [
        "from sklearn.metrics import confusion_matrix\n",
        "\n",
        "y_true = test_data_cancer.labels\n",
        "y_pred = resnet_model.predict(test_data_cancer)\n",
        "y_pred_binary = [int(round(p[0])) for p in y_pred]\n",
        "\n",
        "confusion_matrix = confusion_matrix(y_true, y_pred_binary)\n",
        "\n",
        "print(confusion_matrix)\n"
      ],
      "metadata": {
        "colab": {
          "base_uri": "https://localhost:8080/"
        },
        "id": "OCqrI2dWw0vt",
        "outputId": "3ef05dbf-8501-49c3-8a9e-c798672a3c37"
      },
      "execution_count": 38,
      "outputs": [
        {
          "output_type": "stream",
          "name": "stdout",
          "text": [
            "8/8 [==============================] - 6s 776ms/step\n",
            "[[58 49]\n",
            " [79 65]]\n"
          ]
        }
      ]
    },
    {
      "cell_type": "code",
      "source": [
        "\n",
        "from sklearn.metrics import classification_report\n",
        "\n",
        "report = classification_report(y_true, y_pred_binary)\n",
        "\n",
        "print(report)\n"
      ],
      "metadata": {
        "colab": {
          "base_uri": "https://localhost:8080/"
        },
        "id": "A7lFw9SOw4lN",
        "outputId": "d4cd1dd0-1601-4859-de6a-9b3a271e053d"
      },
      "execution_count": 39,
      "outputs": [
        {
          "output_type": "stream",
          "name": "stdout",
          "text": [
            "              precision    recall  f1-score   support\n",
            "\n",
            "           0       0.42      0.54      0.48       107\n",
            "           1       0.57      0.45      0.50       144\n",
            "\n",
            "    accuracy                           0.49       251\n",
            "   macro avg       0.50      0.50      0.49       251\n",
            "weighted avg       0.51      0.49      0.49       251\n",
            "\n"
          ]
        }
      ]
    },
    {
      "cell_type": "code",
      "source": [],
      "metadata": {
        "id": "bnGIny4Dw7US"
      },
      "execution_count": null,
      "outputs": []
    }
  ]
}