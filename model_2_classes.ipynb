{
  "nbformat": 4,
  "nbformat_minor": 0,
  "metadata": {
    "colab": {
      "provenance": [],
      "machine_shape": "hm",
      "gpuType": "T4"
    },
    "kernelspec": {
      "name": "python3",
      "display_name": "Python 3"
    },
    "language_info": {
      "name": "python"
    },
    "accelerator": "GPU"
  },
  "cells": [
    {
      "cell_type": "code",
      "source": [
        "#   Are we using a GPU?\n",
        "!nvidia-smi"
      ],
      "metadata": {
        "colab": {
          "base_uri": "https://localhost:8080/"
        },
        "id": "QaWgzX01LaEZ",
        "outputId": "7bab8504-0f46-4619-c39d-6202e5024f7f"
      },
      "execution_count": 1,
      "outputs": [
        {
          "output_type": "stream",
          "name": "stdout",
          "text": [
            "Wed Apr 24 07:57:56 2024       \n",
            "+---------------------------------------------------------------------------------------+\n",
            "| NVIDIA-SMI 535.104.05             Driver Version: 535.104.05   CUDA Version: 12.2     |\n",
            "|-----------------------------------------+----------------------+----------------------+\n",
            "| GPU  Name                 Persistence-M | Bus-Id        Disp.A | Volatile Uncorr. ECC |\n",
            "| Fan  Temp   Perf          Pwr:Usage/Cap |         Memory-Usage | GPU-Util  Compute M. |\n",
            "|                                         |                      |               MIG M. |\n",
            "|=========================================+======================+======================|\n",
            "|   0  Tesla T4                       Off | 00000000:00:04.0 Off |                    0 |\n",
            "| N/A   57C    P8              12W /  70W |      0MiB / 15360MiB |      0%      Default |\n",
            "|                                         |                      |                  N/A |\n",
            "+-----------------------------------------+----------------------+----------------------+\n",
            "                                                                                         \n",
            "+---------------------------------------------------------------------------------------+\n",
            "| Processes:                                                                            |\n",
            "|  GPU   GI   CI        PID   Type   Process name                            GPU Memory |\n",
            "|        ID   ID                                                             Usage      |\n",
            "|=======================================================================================|\n",
            "|  No running processes found                                                           |\n",
            "+---------------------------------------------------------------------------------------+\n"
          ]
        }
      ]
    },
    {
      "cell_type": "markdown",
      "source": [
        "Downloading and becoming one with the data"
      ],
      "metadata": {
        "id": "fDhryHuidShQ"
      }
    },
    {
      "cell_type": "code",
      "source": [
        "#How many images in each folder?\n",
        "import os\n",
        "\n",
        "for dirpath, dirnames, filenames in os.walk(\"/content/drive/MyDrive/CDD-CESM_Benign_Malignant\"):\n",
        "  print(f\"There are {len(dirnames)} directories and {len(filenames)} images in '{dirpath}'.\")"
      ],
      "metadata": {
        "colab": {
          "base_uri": "https://localhost:8080/"
        },
        "id": "2TRqeZhUc6mb",
        "outputId": "d8e8037d-fafc-4624-8324-8805873299ed"
      },
      "execution_count": 2,
      "outputs": [
        {
          "output_type": "stream",
          "name": "stdout",
          "text": [
            "There are 2 directories and 0 images in '/content/drive/MyDrive/CDD-CESM_Benign_Malignant'.\n",
            "There are 2 directories and 0 images in '/content/drive/MyDrive/CDD-CESM_Benign_Malignant/Train'.\n",
            "There are 0 directories and 487 images in '/content/drive/MyDrive/CDD-CESM_Benign_Malignant/Train/Benign'.\n",
            "There are 0 directories and 562 images in '/content/drive/MyDrive/CDD-CESM_Benign_Malignant/Train/Malignant'.\n",
            "There are 2 directories and 0 images in '/content/drive/MyDrive/CDD-CESM_Benign_Malignant/Test'.\n",
            "There are 0 directories and 100 images in '/content/drive/MyDrive/CDD-CESM_Benign_Malignant/Test/Malignant'.\n",
            "There are 0 directories and 100 images in '/content/drive/MyDrive/CDD-CESM_Benign_Malignant/Test/Benign'.\n"
          ]
        }
      ]
    },
    {
      "cell_type": "markdown",
      "source": [
        "##Creating  data loaders (preparing the data)\n",
        "we will use the ImageDataGenerator class to load in our images batches"
      ],
      "metadata": {
        "id": "kuiS7KhXfsvr"
      }
    },
    {
      "cell_type": "code",
      "source": [
        "from tensorflow.keras.preprocessing.image import ImageDataGenerator\n",
        "\n",
        "IMAGE_SHAPE = (224, 224)\n",
        "BATCH_SIZE = 32\n",
        "\n",
        "train_dir = \"/content/drive/MyDrive/CDD-CESM_Benign_Malignant/Train\"\n",
        "test_dir = \"/content/drive/MyDrive/CDD-CESM_Benign_Malignant/Test/\"\n",
        "\n",
        "train_datagen = ImageDataGenerator(rescale=1/255.)\n",
        "test_datagen = ImageDataGenerator(rescale=1/255.)\n",
        "\n",
        "print(\"Training images:\")\n",
        "train_data_cancer = train_datagen.flow_from_directory(train_dir,\n",
        "                                               target_size=IMAGE_SHAPE,\n",
        "                                               batch_size=BATCH_SIZE,\n",
        "                                               class_mode=\"binary\")\n",
        "\n",
        "print(\"Testing images:\")\n",
        "test_data_cancer = test_datagen.flow_from_directory(test_dir,\n",
        "                                              target_size=IMAGE_SHAPE,\n",
        "                                              batch_size=BATCH_SIZE,\n",
        "                                              class_mode=\"binary\")"
      ],
      "metadata": {
        "colab": {
          "base_uri": "https://localhost:8080/"
        },
        "id": "kK3kFZGJf67H",
        "outputId": "ce666b5b-1479-400b-cbf5-a70db6d7b58b"
      },
      "execution_count": 3,
      "outputs": [
        {
          "output_type": "stream",
          "name": "stdout",
          "text": [
            "Training images:\n",
            "Found 1049 images belonging to 2 classes.\n",
            "Testing images:\n",
            "Found 200 images belonging to 2 classes.\n"
          ]
        }
      ]
    },
    {
      "cell_type": "markdown",
      "source": [
        "### Setting up callbacks (things to run whilst our model trains)\n",
        "\n",
        "Callbacks are extra functionality you can add to your models to be performed during or after training. Some of the most popular callbacks:\n",
        "\n",
        "*Tracking expriments with the TensorBoard callback\n",
        "*Model checkpoint with the ModelCheckpoint callback\n",
        "*Stopping a model from training (before it trains too long and overfits) with the EarlyStopping callback"
      ],
      "metadata": {
        "id": "EEdat6toh826"
      }
    },
    {
      "cell_type": "code",
      "source": [
        "#Create TensorBoard callback (functionized because we need to create a new one for each model)\n",
        "import datetime\n",
        "\n",
        "def create_tensorboard_callback(dir_name,experiment_name):\n",
        "  log_dir = dir_name + \"/\" + experiment_name + \"/\" + datetime.datetime.now().strftime(\"%Y%m%d-%H%M%S\")\n",
        "  tensorboard_callback = tf.keras.callbacks.TensorBoard(\n",
        "      log_dir=log_dir\n",
        "  )\n",
        "  print(f\"Saving TensorBoard log files to: {log_dir}\")\n",
        "  return tensorboard_callback"
      ],
      "metadata": {
        "id": "gSajlkgxhLmm"
      },
      "execution_count": 4,
      "outputs": []
    },
    {
      "cell_type": "markdown",
      "source": [
        "# Creating Models using Tensorflow Hub\n",
        "In the past we've used Tensorflow to create our own models layer by layer from scratch.\n",
        "\n",
        "Now we are going to do a similar process, except the majority of our model's layer are going to come from Tensorflow Hub.\n",
        "\n",
        "We can access pretrained models on https://www.tensorflow.org/hub\n",
        "\n",
        "Browsing the TensorFlow Hub page anf sorting for image classification, we found the following feature vector model link: https://www.kaggle.com/models/tensorflow/efficientnet/tensorFlow2/b0-feature-vector/1?tfhub-redirect=true\n"
      ],
      "metadata": {
        "id": "kffxKca7HXMC"
      }
    },
    {
      "cell_type": "code",
      "source": [
        "resnet_url = \"https://tfhub.dev/google/imagenet/resnet_v2_50/feature_vector/4\"\n",
        "\n",
        "efficientnet_url = \"https://tfhub.dev/tensorflow/efficientnet/b0/feature-vector/1\""
      ],
      "metadata": {
        "id": "WgKBTnlKm26s"
      },
      "execution_count": 6,
      "outputs": []
    },
    {
      "cell_type": "code",
      "source": [
        "#import depencencies\n",
        "import tensorflow as tf\n",
        "import tensorflow_hub as hub\n",
        "from tensorflow.keras import layers"
      ],
      "metadata": {
        "id": "v_FspwkTGvVz"
      },
      "execution_count": 7,
      "outputs": []
    },
    {
      "cell_type": "code",
      "source": [
        "IMAGE_SHAPE+(3,)"
      ],
      "metadata": {
        "colab": {
          "base_uri": "https://localhost:8080/"
        },
        "id": "ge2R8l2Okd2i",
        "outputId": "ef6bd13b-e5e6-45e4-eb09-f1234f9a39bc"
      },
      "execution_count": 8,
      "outputs": [
        {
          "output_type": "execute_result",
          "data": {
            "text/plain": [
              "(224, 224, 3)"
            ]
          },
          "metadata": {},
          "execution_count": 8
        }
      ]
    },
    {
      "cell_type": "code",
      "source": [
        "#let's make a create_model() function to create a model from a URL\n",
        "def create_model(model_url,num_classes=2):\n",
        "  \"\"\"\n",
        "  Takes a Tensorflow Hub URL and creates a Keras Sequential model with it.\n",
        "\n",
        "  Args:\n",
        "    model_url (str): A Tensorflow Hub feature extraction URL.\n",
        "    num_classes (int): Number of output neurons in the output layer,\n",
        "      should be equal to the number of target classes, default 10.\n",
        "\n",
        "  Returns:\n",
        "    An uncompiled Keras Sequential model with model_url as feature\n",
        "    extractor layer and Dense output layer with num_classes outputs.\n",
        "  \"\"\"\n",
        "  # Download the pretrained model and save it as a Keras Layer\n",
        "  feature_extractor_layer = hub.KerasLayer(model_url,\n",
        "                                           trainable=False, # freeze the already learned patterns\n",
        "                                           name='feature_extraction_layer',\n",
        "                                           input_shape=IMAGE_SHAPE+(3,)) # define the input image shape\n",
        "\n",
        "  #Create our own model\n",
        "  model = tf.keras.Sequential([\n",
        "    feature_extractor_layer,\n",
        "    layers.Dense(num_classes, activation='softmax',name =\"output_layer\")\n",
        "  ])\n",
        "  return model\n"
      ],
      "metadata": {
        "id": "m_DMFkzwiDwO"
      },
      "execution_count": 21,
      "outputs": []
    },
    {
      "cell_type": "markdown",
      "source": [
        "### Creating and testing ResNet TensorFlow Hub Extraction model"
      ],
      "metadata": {
        "id": "NayYoK0clT8C"
      }
    },
    {
      "cell_type": "code",
      "source": [
        "#Create ResNet Model\n",
        "\n",
        "resnet_model = create_model(resnet_url, train_data_cancer.num_classes)\n"
      ],
      "metadata": {
        "id": "k97wvzVuioIb"
      },
      "execution_count": 22,
      "outputs": []
    },
    {
      "cell_type": "code",
      "source": [
        "#compile our resnet model\n",
        "resnet_model.compile(loss=\"binary_crossentropy\",\n",
        "                     optimizer=tf.keras.optimizers.Adam(),\n",
        "                     metrics=[\"accuracy\"])"
      ],
      "metadata": {
        "id": "pYJ2KxsXmXXK"
      },
      "execution_count": 23,
      "outputs": []
    },
    {
      "cell_type": "code",
      "source": [
        "resnet_model.summary()"
      ],
      "metadata": {
        "colab": {
          "base_uri": "https://localhost:8080/"
        },
        "id": "c-ul8zhDl89A",
        "outputId": "6d3c829c-431a-446c-a92b-5eecca160662"
      },
      "execution_count": 24,
      "outputs": [
        {
          "output_type": "stream",
          "name": "stdout",
          "text": [
            "Model: \"sequential_2\"\n",
            "_________________________________________________________________\n",
            " Layer (type)                Output Shape              Param #   \n",
            "=================================================================\n",
            " feature_extraction_layer (  (None, 2048)              23564800  \n",
            " KerasLayer)                                                     \n",
            "                                                                 \n",
            " output_layer (Dense)        (None, 2)                 4098      \n",
            "                                                                 \n",
            "=================================================================\n",
            "Total params: 23568898 (89.91 MB)\n",
            "Trainable params: 4098 (16.01 KB)\n",
            "Non-trainable params: 23564800 (89.89 MB)\n",
            "_________________________________________________________________\n"
          ]
        }
      ]
    },
    {
      "cell_type": "code",
      "source": [
        "print(train_data_cancer.labels.shape)\n",
        "print(test_data_cancer.labels.shape)"
      ],
      "metadata": {
        "colab": {
          "base_uri": "https://localhost:8080/"
        },
        "id": "P95ukfCjoTkj",
        "outputId": "7aeb90a3-acd9-4cf1-c4df-05001893b996"
      },
      "execution_count": 25,
      "outputs": [
        {
          "output_type": "stream",
          "name": "stdout",
          "text": [
            "(1049,)\n",
            "(200,)\n"
          ]
        }
      ]
    },
    {
      "cell_type": "code",
      "source": [
        "resnet_model.add(tf.keras.layers.Dense(1, activation=\"sigmoid\"))"
      ],
      "metadata": {
        "id": "R1AmtU64pndx"
      },
      "execution_count": 28,
      "outputs": []
    },
    {
      "cell_type": "code",
      "source": [
        "#Let's fit our ResNet model to the data\n",
        "resnet_history = resnet_model.fit(train_data_cancer,\n",
        "                                  epochs=50,\n",
        "                                  steps_per_epoch=len(train_data_cancer),\n",
        "                                  validation_data=test_data_cancer,\n",
        "                                  validation_steps=len(test_data_cancer),\n",
        "                                  callbacks=[create_tensorboard_callback(dir_name=\"tensorflow_hub\",\n",
        "                                                                         experiment_name=\"resnet50V2\")])"
      ],
      "metadata": {
        "colab": {
          "base_uri": "https://localhost:8080/"
        },
        "id": "awrVBeRgmM_F",
        "outputId": "d4fc803d-bb24-4a5c-f9fb-74cf33296d82"
      },
      "execution_count": 30,
      "outputs": [
        {
          "output_type": "stream",
          "name": "stdout",
          "text": [
            "Saving TensorBoard log files to: tensorflow_hub/resnet50V2/20240424-104652\n",
            "Epoch 1/50\n",
            "33/33 [==============================] - 30s 902ms/step - loss: 0.6969 - accuracy: 0.4643 - val_loss: 0.6936 - val_accuracy: 0.5000\n",
            "Epoch 2/50\n",
            "33/33 [==============================] - 31s 947ms/step - loss: 0.6953 - accuracy: 0.4643 - val_loss: 0.6934 - val_accuracy: 0.5000\n",
            "Epoch 3/50\n",
            "33/33 [==============================] - 31s 940ms/step - loss: 0.6942 - accuracy: 0.4643 - val_loss: 0.6932 - val_accuracy: 0.5000\n",
            "Epoch 4/50\n",
            "33/33 [==============================] - 30s 914ms/step - loss: 0.6932 - accuracy: 0.4909 - val_loss: 0.6932 - val_accuracy: 0.5000\n",
            "Epoch 5/50\n",
            "33/33 [==============================] - 30s 907ms/step - loss: 0.6925 - accuracy: 0.5357 - val_loss: 0.6932 - val_accuracy: 0.5000\n",
            "Epoch 6/50\n",
            "33/33 [==============================] - 29s 892ms/step - loss: 0.6921 - accuracy: 0.5357 - val_loss: 0.6934 - val_accuracy: 0.5000\n",
            "Epoch 7/50\n",
            "33/33 [==============================] - 29s 888ms/step - loss: 0.6916 - accuracy: 0.5357 - val_loss: 0.6936 - val_accuracy: 0.5000\n",
            "Epoch 8/50\n",
            "33/33 [==============================] - 30s 903ms/step - loss: 0.6908 - accuracy: 0.5415 - val_loss: 0.6887 - val_accuracy: 0.5800\n",
            "Epoch 9/50\n",
            "33/33 [==============================] - 29s 887ms/step - loss: 0.6828 - accuracy: 0.5977 - val_loss: 0.6783 - val_accuracy: 0.6200\n",
            "Epoch 10/50\n",
            "33/33 [==============================] - 30s 896ms/step - loss: 0.6656 - accuracy: 0.6911 - val_loss: 0.6722 - val_accuracy: 0.6000\n",
            "Epoch 11/50\n",
            "33/33 [==============================] - 29s 873ms/step - loss: 0.6509 - accuracy: 0.7302 - val_loss: 0.6741 - val_accuracy: 0.6250\n",
            "Epoch 12/50\n",
            "33/33 [==============================] - 30s 916ms/step - loss: 0.6380 - accuracy: 0.7455 - val_loss: 0.6589 - val_accuracy: 0.6550\n",
            "Epoch 13/50\n",
            "33/33 [==============================] - 30s 925ms/step - loss: 0.6214 - accuracy: 0.7817 - val_loss: 0.6575 - val_accuracy: 0.6450\n",
            "Epoch 14/50\n",
            "33/33 [==============================] - 30s 899ms/step - loss: 0.6086 - accuracy: 0.7922 - val_loss: 0.6552 - val_accuracy: 0.6450\n",
            "Epoch 15/50\n",
            "33/33 [==============================] - 29s 887ms/step - loss: 0.5940 - accuracy: 0.8008 - val_loss: 0.6483 - val_accuracy: 0.6450\n",
            "Epoch 16/50\n",
            "33/33 [==============================] - 29s 893ms/step - loss: 0.5787 - accuracy: 0.8275 - val_loss: 0.6477 - val_accuracy: 0.6450\n",
            "Epoch 17/50\n",
            "33/33 [==============================] - 29s 896ms/step - loss: 0.5675 - accuracy: 0.8351 - val_loss: 0.6510 - val_accuracy: 0.6250\n",
            "Epoch 18/50\n",
            "33/33 [==============================] - 29s 871ms/step - loss: 0.5580 - accuracy: 0.8360 - val_loss: 0.6460 - val_accuracy: 0.6350\n",
            "Epoch 19/50\n",
            "33/33 [==============================] - 29s 870ms/step - loss: 0.5403 - accuracy: 0.8580 - val_loss: 0.6458 - val_accuracy: 0.6250\n",
            "Epoch 20/50\n",
            "33/33 [==============================] - 29s 880ms/step - loss: 0.5340 - accuracy: 0.8475 - val_loss: 0.6441 - val_accuracy: 0.6500\n",
            "Epoch 21/50\n",
            "33/33 [==============================] - 29s 866ms/step - loss: 0.5162 - accuracy: 0.8704 - val_loss: 0.6406 - val_accuracy: 0.6500\n",
            "Epoch 22/50\n",
            "33/33 [==============================] - 28s 855ms/step - loss: 0.5159 - accuracy: 0.8570 - val_loss: 0.6468 - val_accuracy: 0.6350\n",
            "Epoch 23/50\n",
            "33/33 [==============================] - 28s 855ms/step - loss: 0.5000 - accuracy: 0.8751 - val_loss: 0.6408 - val_accuracy: 0.6450\n",
            "Epoch 24/50\n",
            "33/33 [==============================] - 28s 857ms/step - loss: 0.4833 - accuracy: 0.8961 - val_loss: 0.6416 - val_accuracy: 0.6350\n",
            "Epoch 25/50\n",
            "33/33 [==============================] - 28s 862ms/step - loss: 0.4751 - accuracy: 0.8961 - val_loss: 0.6425 - val_accuracy: 0.6350\n",
            "Epoch 26/50\n",
            "33/33 [==============================] - 28s 860ms/step - loss: 0.4665 - accuracy: 0.8875 - val_loss: 0.6441 - val_accuracy: 0.6300\n",
            "Epoch 27/50\n",
            "33/33 [==============================] - 29s 870ms/step - loss: 0.4628 - accuracy: 0.8913 - val_loss: 0.6581 - val_accuracy: 0.6300\n",
            "Epoch 28/50\n",
            "33/33 [==============================] - 29s 871ms/step - loss: 0.4446 - accuracy: 0.9123 - val_loss: 0.6497 - val_accuracy: 0.6450\n",
            "Epoch 29/50\n",
            "33/33 [==============================] - 28s 862ms/step - loss: 0.4377 - accuracy: 0.9094 - val_loss: 0.6517 - val_accuracy: 0.6100\n",
            "Epoch 30/50\n",
            "33/33 [==============================] - 28s 856ms/step - loss: 0.4290 - accuracy: 0.9094 - val_loss: 0.6577 - val_accuracy: 0.6100\n",
            "Epoch 31/50\n",
            "33/33 [==============================] - 29s 875ms/step - loss: 0.4154 - accuracy: 0.9218 - val_loss: 0.6586 - val_accuracy: 0.6050\n",
            "Epoch 32/50\n",
            "33/33 [==============================] - 28s 853ms/step - loss: 0.4098 - accuracy: 0.9228 - val_loss: 0.6639 - val_accuracy: 0.6150\n",
            "Epoch 33/50\n",
            "33/33 [==============================] - 28s 854ms/step - loss: 0.4127 - accuracy: 0.9113 - val_loss: 0.6646 - val_accuracy: 0.6250\n",
            "Epoch 34/50\n",
            "33/33 [==============================] - 28s 853ms/step - loss: 0.3938 - accuracy: 0.9285 - val_loss: 0.6692 - val_accuracy: 0.6200\n",
            "Epoch 35/50\n",
            "33/33 [==============================] - 28s 863ms/step - loss: 0.3838 - accuracy: 0.9304 - val_loss: 0.6633 - val_accuracy: 0.6350\n",
            "Epoch 36/50\n",
            "33/33 [==============================] - 28s 843ms/step - loss: 0.3771 - accuracy: 0.9333 - val_loss: 0.6699 - val_accuracy: 0.6300\n",
            "Epoch 37/50\n",
            "33/33 [==============================] - 28s 842ms/step - loss: 0.3711 - accuracy: 0.9323 - val_loss: 0.6740 - val_accuracy: 0.6250\n",
            "Epoch 38/50\n",
            "33/33 [==============================] - 28s 855ms/step - loss: 0.3622 - accuracy: 0.9352 - val_loss: 0.6797 - val_accuracy: 0.6350\n",
            "Epoch 39/50\n",
            "33/33 [==============================] - 28s 861ms/step - loss: 0.3592 - accuracy: 0.9399 - val_loss: 0.6824 - val_accuracy: 0.6200\n",
            "Epoch 40/50\n",
            "33/33 [==============================] - 28s 850ms/step - loss: 0.3474 - accuracy: 0.9438 - val_loss: 0.6811 - val_accuracy: 0.6300\n",
            "Epoch 41/50\n",
            "33/33 [==============================] - 28s 853ms/step - loss: 0.3423 - accuracy: 0.9438 - val_loss: 0.6858 - val_accuracy: 0.6350\n",
            "Epoch 42/50\n",
            "33/33 [==============================] - 28s 853ms/step - loss: 0.3356 - accuracy: 0.9485 - val_loss: 0.6852 - val_accuracy: 0.6200\n",
            "Epoch 43/50\n",
            "33/33 [==============================] - 28s 849ms/step - loss: 0.3297 - accuracy: 0.9476 - val_loss: 0.6904 - val_accuracy: 0.6200\n",
            "Epoch 44/50\n",
            "33/33 [==============================] - 28s 845ms/step - loss: 0.3249 - accuracy: 0.9466 - val_loss: 0.6876 - val_accuracy: 0.6250\n",
            "Epoch 45/50\n",
            "33/33 [==============================] - 28s 840ms/step - loss: 0.3216 - accuracy: 0.9466 - val_loss: 0.6962 - val_accuracy: 0.6300\n",
            "Epoch 46/50\n",
            "33/33 [==============================] - 28s 858ms/step - loss: 0.3133 - accuracy: 0.9504 - val_loss: 0.6992 - val_accuracy: 0.6200\n",
            "Epoch 47/50\n",
            "33/33 [==============================] - 28s 853ms/step - loss: 0.3096 - accuracy: 0.9495 - val_loss: 0.7043 - val_accuracy: 0.6050\n",
            "Epoch 48/50\n",
            "33/33 [==============================] - 27s 830ms/step - loss: 0.3110 - accuracy: 0.9485 - val_loss: 0.7084 - val_accuracy: 0.6350\n",
            "Epoch 49/50\n",
            "33/33 [==============================] - 28s 842ms/step - loss: 0.3007 - accuracy: 0.9504 - val_loss: 0.7097 - val_accuracy: 0.6150\n",
            "Epoch 50/50\n",
            "33/33 [==============================] - 28s 867ms/step - loss: 0.2938 - accuracy: 0.9542 - val_loss: 0.7146 - val_accuracy: 0.6150\n"
          ]
        }
      ]
    },
    {
      "cell_type": "code",
      "source": [
        "#Let's create a function to plot our loss curves\n",
        "\n",
        "import matplotlib.pyplot as plt\n",
        "\n",
        "def plot_loss_curves(history):\n",
        "  \"\"\"\n",
        "  Returns separate loss curves for training and validation metrics.\n",
        "  Args:\n",
        "    history: TensorFlow History object.\n",
        "\n",
        "    Returns:\n",
        "    Plots of training/validation loss and accuracy metrics.\n",
        "  \"\"\"\n",
        "  loss = history.history['loss']\n",
        "  val_loss = history.history['val_loss']\n",
        "\n",
        "  accuracy = history.history['accuracy']\n",
        "  val_accuracy = history.history['val_accuracy']\n",
        "\n",
        "  epochs = range(len(history.history['loss']))\n",
        "\n",
        "  #Plot loss\n",
        "\n",
        "  plt.plot(epochs, loss, label='training_loss')\n",
        "  plt.plot(epochs, val_loss, label='val_loss')\n",
        "  plt.title('Loss')\n",
        "  plt.xlabel('Epochs')\n",
        "  plt.legend()\n",
        "\n",
        "  #Plot accuracy\n",
        "  plt.figure()\n",
        "  plt.plot(epochs, accuracy, label='training_accuracy')\n",
        "  plt.plot(epochs, val_accuracy, label='val_accuracy')\n",
        "  plt.title('Accuracy')\n",
        "  plt.xlabel('Epochs')\n",
        "  plt.legend();"
      ],
      "metadata": {
        "id": "YoYqBEDHnonn"
      },
      "execution_count": 31,
      "outputs": []
    },
    {
      "cell_type": "code",
      "source": [
        "plot_loss_curves(resnet_history)"
      ],
      "metadata": {
        "colab": {
          "base_uri": "https://localhost:8080/",
          "height": 927
        },
        "id": "C6uBhf9B0pxK",
        "outputId": "203750da-df6e-4d45-d529-f71ea2d6df74"
      },
      "execution_count": 32,
      "outputs": [
        {
          "output_type": "display_data",
          "data": {
            "text/plain": [
              "<Figure size 640x480 with 1 Axes>"
            ],
            "image/png": "[encoded data removed]"
          },
          "metadata": {}
        },
        {
          "output_type": "display_data",
          "data": {
            "text/plain": [
              "<Figure size 640x480 with 1 Axes>"
            ],
            "image/png": "[encoded data removed]"
          },
          "metadata": {}
        }
      ]
    }
  ]
}