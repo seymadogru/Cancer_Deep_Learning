{
  "nbformat": 4,
  "nbformat_minor": 0,
  "metadata": {
    "colab": {
      "provenance": [],
      "machine_shape": "hm",
      "gpuType": "T4"
    },
    "kernelspec": {
      "name": "python3",
      "display_name": "Python 3"
    },
    "language_info": {
      "name": "python"
    },
    "accelerator": "GPU"
  },
  "cells": [
    {
      "cell_type": "code",
      "execution_count": 1,
      "metadata": {
        "colab": {
          "base_uri": "https://localhost:8080/"
        },
        "id": "fF-9v0xzxdMd",
        "outputId": "c60ac950-b44e-4bad-9007-acc629632602"
      },
      "outputs": [
        {
          "output_type": "stream",
          "name": "stdout",
          "text": [
            "--2024-05-09 02:17:57--  https://raw.githubusercontent.com/mrdbourke/tensorflow-deep-learning/main/extras/helper_functions.py\n",
            "Resolving raw.githubusercontent.com (raw.githubusercontent.com)... 185.199.110.133, 185.199.109.133, 185.199.108.133, ...\n",
            "Connecting to raw.githubusercontent.com (raw.githubusercontent.com)|185.199.110.133|:443... connected.\n",
            "HTTP request sent, awaiting response... 200 OK\n",
            "Length: 10246 (10K) [text/plain]\n",
            "Saving to: ‘helper_functions.py’\n",
            "\n",
            "\rhelper_functions.py   0%[                    ]       0  --.-KB/s               \rhelper_functions.py 100%[===================>]  10.01K  --.-KB/s    in 0s      \n",
            "\n",
            "2024-05-09 02:17:57 (52.1 MB/s) - ‘helper_functions.py’ saved [10246/10246]\n",
            "\n"
          ]
        }
      ],
      "source": [
        "#Transfer Learning with Tensorflow\n",
        "\n",
        "!wget https://raw.githubusercontent.com/mrdbourke/tensorflow-deep-learning/main/extras/helper_functions.py"
      ]
    },
    {
      "cell_type": "code",
      "source": [
        "#import helper functions we're going to use in this notebook\n",
        "\n",
        "from helper_functions import create_tensorboard_callback, plot_loss_curves, unzip_data, walk_through_dir"
      ],
      "metadata": {
        "id": "C9yk-w4ByjWT"
      },
      "execution_count": 2,
      "outputs": []
    },
    {
      "cell_type": "markdown",
      "source": [
        "🔑 if you are running this notebook in google colab, when it times out colab will delete helper_functions.py , so you'll have to redownload it if you want access to your helper funcitions."
      ],
      "metadata": {
        "id": "PLGfLqZv1tfF"
      }
    },
    {
      "cell_type": "markdown",
      "source": [
        "#let's get some data\n",
        "This time we are going to see how we can use the pretrained models within tf.keras.applications and apply them to our own problem.\n",
        "\n",
        "Link: https://www.tensorflow.org/api_docs/python/tf/keras/applications"
      ],
      "metadata": {
        "id": "I6KxvVxm2sWt"
      }
    },
    {
      "cell_type": "code",
      "source": [
        "import os\n",
        "\n",
        "for dirpath, dirnames, filenames in os.walk(\"/content/drive/MyDrive/2_datas_2_Class\"):\n",
        "  print(f\"There are {len(dirnames)} directories and {len(filenames)} images in '{dirpath}'.\")\n",
        "\n"
      ],
      "metadata": {
        "colab": {
          "base_uri": "https://localhost:8080/"
        },
        "id": "7TYaGBBZ1exJ",
        "outputId": "af10ab57-141a-47b6-9e60-88b332c26cf7"
      },
      "execution_count": 3,
      "outputs": [
        {
          "output_type": "stream",
          "name": "stdout",
          "text": [
            "There are 2 directories and 0 images in '/content/drive/MyDrive/2_datas_2_Class'.\n",
            "There are 2 directories and 0 images in '/content/drive/MyDrive/2_datas_2_Class/Test'.\n",
            "There are 0 directories and 107 images in '/content/drive/MyDrive/2_datas_2_Class/Test/Benign'.\n",
            "There are 0 directories and 144 images in '/content/drive/MyDrive/2_datas_2_Class/Test/Malignant'.\n",
            "There are 2 directories and 0 images in '/content/drive/MyDrive/2_datas_2_Class/Train'.\n",
            "There are 0 directories and 3568 images in '/content/drive/MyDrive/2_datas_2_Class/Train/Benign'.\n",
            "There are 0 directories and 3796 images in '/content/drive/MyDrive/2_datas_2_Class/Train/Malignant'.\n"
          ]
        }
      ]
    },
    {
      "cell_type": "code",
      "source": [
        "train_dir = \"/content/drive/MyDrive/2_datas_2_Class/Train\"\n",
        "test_dir = \"/content/drive/MyDrive/2_datas_2_Class/Test\""
      ],
      "metadata": {
        "id": "rHvb71eG3rkd"
      },
      "execution_count": 4,
      "outputs": []
    },
    {
      "cell_type": "code",
      "source": [
        "import tensorflow as tf\n",
        "BATCH_SIZE = 32\n",
        "IMG_SIZE = (224, 224)\n",
        "train_data= tf.keras.preprocessing.image_dataset_from_directory(train_dir,\n",
        "                                                          label_mode=\"binary\",\n",
        "                                                          batch_size=BATCH_SIZE,\n",
        "                                                          image_size=IMG_SIZE)\n",
        "\n",
        "test_data = tf.keras.preprocessing.image_dataset_from_directory(test_dir,\n",
        "                                                          label_mode=\"binary\",\n",
        "                                                          batch_size=BATCH_SIZE,\n",
        "                                                          image_size=IMG_SIZE)"
      ],
      "metadata": {
        "colab": {
          "base_uri": "https://localhost:8080/"
        },
        "id": "zDiKIejc4Gfy",
        "outputId": "953b6167-2e4e-4a2f-fb8f-9b87da194657"
      },
      "execution_count": 5,
      "outputs": [
        {
          "output_type": "stream",
          "name": "stdout",
          "text": [
            "Found 7364 files belonging to 2 classes.\n",
            "Found 251 files belonging to 2 classes.\n"
          ]
        }
      ]
    },
    {
      "cell_type": "code",
      "source": [
        "train_data.class_names"
      ],
      "metadata": {
        "colab": {
          "base_uri": "https://localhost:8080/"
        },
        "id": "Fr4I2Cvu5oiL",
        "outputId": "d384dc7a-c0c2-462a-f6a5-171af3e3d9c3"
      },
      "execution_count": 6,
      "outputs": [
        {
          "output_type": "execute_result",
          "data": {
            "text/plain": [
              "['Benign', 'Malignant']"
            ]
          },
          "metadata": {},
          "execution_count": 6
        }
      ]
    },
    {
      "cell_type": "code",
      "source": [
        "#see an example of a batch of data\n",
        "for images, labels in train_data.take(1):\n",
        "  print(images, labels)\n"
      ],
      "metadata": {
        "colab": {
          "base_uri": "https://localhost:8080/"
        },
        "id": "CMwYhDfw6Eqg",
        "outputId": "217a3e39-b673-4424-be0a-fcf8af6b513e"
      },
      "execution_count": 10,
      "outputs": [
        {
          "output_type": "stream",
          "name": "stdout",
          "text": [
            "tf.Tensor(\n",
            "[[[[  0.         0.         0.      ]\n",
            "   [  0.         0.         0.      ]\n",
            "   [  0.         0.         0.      ]\n",
            "   ...\n",
            "   [  0.         0.         0.      ]\n",
            "   [  0.         0.         0.      ]\n",
            "   [  0.         0.         0.      ]]\n",
            "\n",
            "  [[  0.         0.         0.      ]\n",
            "   [  0.         0.         0.      ]\n",
            "   [  0.         0.         0.      ]\n",
            "   ...\n",
            "   [  0.         0.         0.      ]\n",
            "   [  0.         0.         0.      ]\n",
            "   [  0.         0.         0.      ]]\n",
            "\n",
            "  [[  0.         0.         0.      ]\n",
            "   [  0.         0.         0.      ]\n",
            "   [  0.         0.         0.      ]\n",
            "   ...\n",
            "   [  0.         0.         0.      ]\n",
            "   [  0.         0.         0.      ]\n",
            "   [  0.         0.         0.      ]]\n",
            "\n",
            "  ...\n",
            "\n",
            "  [[ 73.        73.        73.      ]\n",
            "   [ 81.        81.        81.      ]\n",
            "   [ 81.        81.        81.      ]\n",
            "   ...\n",
            "   [  0.         0.         0.      ]\n",
            "   [  0.         0.         0.      ]\n",
            "   [  0.         0.         0.      ]]\n",
            "\n",
            "  [[ 78.        78.        78.      ]\n",
            "   [ 79.        79.        79.      ]\n",
            "   [ 80.        80.        80.      ]\n",
            "   ...\n",
            "   [  0.         0.         0.      ]\n",
            "   [  0.         0.         0.      ]\n",
            "   [  0.         0.         0.      ]]\n",
            "\n",
            "  [[ 81.        81.        81.      ]\n",
            "   [ 78.        78.        78.      ]\n",
            "   [ 81.        81.        81.      ]\n",
            "   ...\n",
            "   [  0.         0.         0.      ]\n",
            "   [  0.         0.         0.      ]\n",
            "   [  0.         0.         0.      ]]]\n",
            "\n",
            "\n",
            " [[[  0.         0.         0.      ]\n",
            "   [  0.         0.         0.      ]\n",
            "   [  0.         0.         0.      ]\n",
            "   ...\n",
            "   [ 70.        70.        70.      ]\n",
            "   [ 75.        75.        75.      ]\n",
            "   [ 64.        64.        64.      ]]\n",
            "\n",
            "  [[  0.         0.         0.      ]\n",
            "   [  0.         0.         0.      ]\n",
            "   [  0.         0.         0.      ]\n",
            "   ...\n",
            "   [ 70.        70.        70.      ]\n",
            "   [ 74.        74.        74.      ]\n",
            "   [ 65.        65.        65.      ]]\n",
            "\n",
            "  [[  0.         0.         0.      ]\n",
            "   [  0.         0.         0.      ]\n",
            "   [  0.         0.         0.      ]\n",
            "   ...\n",
            "   [ 71.        71.        71.      ]\n",
            "   [ 73.        73.        73.      ]\n",
            "   [ 66.        66.        66.      ]]\n",
            "\n",
            "  ...\n",
            "\n",
            "  [[  0.         0.         0.      ]\n",
            "   [  0.         0.         0.      ]\n",
            "   [  0.         0.         0.      ]\n",
            "   ...\n",
            "   [  0.         0.         0.      ]\n",
            "   [  0.         0.         0.      ]\n",
            "   [  0.         0.         0.      ]]\n",
            "\n",
            "  [[  0.         0.         0.      ]\n",
            "   [  0.         0.         0.      ]\n",
            "   [  0.         0.         0.      ]\n",
            "   ...\n",
            "   [  1.         1.         1.      ]\n",
            "   [  1.         1.         1.      ]\n",
            "   [  1.         1.         1.      ]]\n",
            "\n",
            "  [[  0.         0.         0.      ]\n",
            "   [  0.         0.         0.      ]\n",
            "   [  0.         0.         0.      ]\n",
            "   ...\n",
            "   [  3.         3.         3.      ]\n",
            "   [  2.         2.         2.      ]\n",
            "   [  2.         2.         2.      ]]]\n",
            "\n",
            "\n",
            " [[[171.       171.       171.      ]\n",
            "   [170.       170.       170.      ]\n",
            "   [169.       169.       169.      ]\n",
            "   ...\n",
            "   [  0.         0.         0.      ]\n",
            "   [  0.         0.         0.      ]\n",
            "   [  0.         0.         0.      ]]\n",
            "\n",
            "  [[170.       170.       170.      ]\n",
            "   [169.       169.       169.      ]\n",
            "   [169.       169.       169.      ]\n",
            "   ...\n",
            "   [  0.         0.         0.      ]\n",
            "   [  0.         0.         0.      ]\n",
            "   [  0.         0.         0.      ]]\n",
            "\n",
            "  [[170.       170.       170.      ]\n",
            "   [170.       170.       170.      ]\n",
            "   [169.       169.       169.      ]\n",
            "   ...\n",
            "   [  0.         0.         0.      ]\n",
            "   [  0.         0.         0.      ]\n",
            "   [  0.         0.         0.      ]]\n",
            "\n",
            "  ...\n",
            "\n",
            "  [[  0.         0.         0.      ]\n",
            "   [  0.         0.         0.      ]\n",
            "   [  0.         0.         0.      ]\n",
            "   ...\n",
            "   [  0.         0.         0.      ]\n",
            "   [  0.         0.         0.      ]\n",
            "   [  0.         0.         0.      ]]\n",
            "\n",
            "  [[  0.         0.         0.      ]\n",
            "   [  0.         0.         0.      ]\n",
            "   [  0.         0.         0.      ]\n",
            "   ...\n",
            "   [  0.         0.         0.      ]\n",
            "   [  0.         0.         0.      ]\n",
            "   [  0.         0.         0.      ]]\n",
            "\n",
            "  [[  0.         0.         0.      ]\n",
            "   [  0.         0.         0.      ]\n",
            "   [  0.         0.         0.      ]\n",
            "   ...\n",
            "   [  0.         0.         0.      ]\n",
            "   [  0.         0.         0.      ]\n",
            "   [  0.         0.         0.      ]]]\n",
            "\n",
            "\n",
            " ...\n",
            "\n",
            "\n",
            " [[[  0.         0.         0.      ]\n",
            "   [  0.         0.         0.      ]\n",
            "   [  0.         0.         0.      ]\n",
            "   ...\n",
            "   [103.21337  103.21337  103.21337 ]\n",
            "   [105.474594 105.474594 105.474594]\n",
            "   [110.22339  110.22339  110.22339 ]]\n",
            "\n",
            "  [[  0.         0.         0.      ]\n",
            "   [  0.         0.         0.      ]\n",
            "   [  0.         0.         0.      ]\n",
            "   ...\n",
            "   [ 99.16163   99.16163   99.16163 ]\n",
            "   [ 99.832565  99.832565  99.832565]\n",
            "   [103.11685  103.11685  103.11685 ]]\n",
            "\n",
            "  [[  0.         0.         0.      ]\n",
            "   [  0.         0.         0.      ]\n",
            "   [  0.         0.         0.      ]\n",
            "   ...\n",
            "   [108.54883  108.54883  108.54883 ]\n",
            "   [111.26514  111.26514  111.26514 ]\n",
            "   [108.41992  108.41992  108.41992 ]]\n",
            "\n",
            "  ...\n",
            "\n",
            "  [[  0.         0.         0.      ]\n",
            "   [  0.         0.         0.      ]\n",
            "   [  0.         0.         0.      ]\n",
            "   ...\n",
            "   [  0.         0.         0.      ]\n",
            "   [  0.         0.         0.      ]\n",
            "   [  0.         0.         0.      ]]\n",
            "\n",
            "  [[  0.         0.         0.      ]\n",
            "   [  0.         0.         0.      ]\n",
            "   [  0.         0.         0.      ]\n",
            "   ...\n",
            "   [  0.         0.         0.      ]\n",
            "   [  0.         0.         0.      ]\n",
            "   [  0.         0.         0.      ]]\n",
            "\n",
            "  [[  0.         0.         0.      ]\n",
            "   [  0.         0.         0.      ]\n",
            "   [  0.         0.         0.      ]\n",
            "   ...\n",
            "   [  0.         0.         0.      ]\n",
            "   [  0.         0.         0.      ]\n",
            "   [  0.         0.         0.      ]]]\n",
            "\n",
            "\n",
            " [[[  0.         0.         0.      ]\n",
            "   [  0.         0.         0.      ]\n",
            "   [  0.         0.         0.      ]\n",
            "   ...\n",
            "   [  0.         0.         0.      ]\n",
            "   [  0.         0.         0.      ]\n",
            "   [  0.         0.         0.      ]]\n",
            "\n",
            "  [[  0.         0.         0.      ]\n",
            "   [  0.         0.         0.      ]\n",
            "   [  0.         0.         0.      ]\n",
            "   ...\n",
            "   [  0.         0.         0.      ]\n",
            "   [  0.         0.         0.      ]\n",
            "   [  0.         0.         0.      ]]\n",
            "\n",
            "  [[  0.         0.         0.      ]\n",
            "   [  0.         0.         0.      ]\n",
            "   [  0.         0.         0.      ]\n",
            "   ...\n",
            "   [  0.         0.         0.      ]\n",
            "   [  0.         0.         0.      ]\n",
            "   [  0.         0.         0.      ]]\n",
            "\n",
            "  ...\n",
            "\n",
            "  [[ 54.        54.        54.      ]\n",
            "   [ 49.        49.        49.      ]\n",
            "   [ 50.        50.        50.      ]\n",
            "   ...\n",
            "   [  0.         0.         0.      ]\n",
            "   [  0.         0.         0.      ]\n",
            "   [  0.         0.         0.      ]]\n",
            "\n",
            "  [[ 43.        43.        43.      ]\n",
            "   [ 41.        41.        41.      ]\n",
            "   [ 39.        39.        39.      ]\n",
            "   ...\n",
            "   [  0.         0.         0.      ]\n",
            "   [  0.         0.         0.      ]\n",
            "   [  0.         0.         0.      ]]\n",
            "\n",
            "  [[ 27.        27.        27.      ]\n",
            "   [ 25.        25.        25.      ]\n",
            "   [ 25.        25.        25.      ]\n",
            "   ...\n",
            "   [  0.         0.         0.      ]\n",
            "   [  0.         0.         0.      ]\n",
            "   [  0.         0.         0.      ]]]\n",
            "\n",
            "\n",
            " [[[  0.         0.         0.      ]\n",
            "   [  0.         0.         0.      ]\n",
            "   [  0.         0.         0.      ]\n",
            "   ...\n",
            "   [  0.         0.         0.      ]\n",
            "   [  0.         0.         0.      ]\n",
            "   [  0.         0.         0.      ]]\n",
            "\n",
            "  [[  0.         0.         0.      ]\n",
            "   [  0.         0.         0.      ]\n",
            "   [  0.         0.         0.      ]\n",
            "   ...\n",
            "   [  0.         0.         0.      ]\n",
            "   [  0.         0.         0.      ]\n",
            "   [  0.         0.         0.      ]]\n",
            "\n",
            "  [[  0.         0.         0.      ]\n",
            "   [  0.         0.         0.      ]\n",
            "   [  0.         0.         0.      ]\n",
            "   ...\n",
            "   [  0.         0.         0.      ]\n",
            "   [  0.         0.         0.      ]\n",
            "   [  0.         0.         0.      ]]\n",
            "\n",
            "  ...\n",
            "\n",
            "  [[ 15.        15.        15.      ]\n",
            "   [ 15.        15.        15.      ]\n",
            "   [ 15.        15.        15.      ]\n",
            "   ...\n",
            "   [  0.         0.         0.      ]\n",
            "   [  0.         0.         0.      ]\n",
            "   [  0.         0.         0.      ]]\n",
            "\n",
            "  [[ 16.        16.        16.      ]\n",
            "   [ 16.        16.        16.      ]\n",
            "   [ 15.        15.        15.      ]\n",
            "   ...\n",
            "   [  0.         0.         0.      ]\n",
            "   [  0.         0.         0.      ]\n",
            "   [  0.         0.         0.      ]]\n",
            "\n",
            "  [[ 14.        14.        14.      ]\n",
            "   [ 16.        16.        16.      ]\n",
            "   [ 15.        15.        15.      ]\n",
            "   ...\n",
            "   [  0.         0.         0.      ]\n",
            "   [  0.         0.         0.      ]\n",
            "   [  0.         0.         0.      ]]]], shape=(32, 224, 224, 3), dtype=float32) tf.Tensor(\n",
            "[[0.]\n",
            " [0.]\n",
            " [0.]\n",
            " [1.]\n",
            " [1.]\n",
            " [1.]\n",
            " [1.]\n",
            " [0.]\n",
            " [1.]\n",
            " [0.]\n",
            " [0.]\n",
            " [1.]\n",
            " [0.]\n",
            " [1.]\n",
            " [1.]\n",
            " [1.]\n",
            " [0.]\n",
            " [1.]\n",
            " [1.]\n",
            " [0.]\n",
            " [0.]\n",
            " [1.]\n",
            " [1.]\n",
            " [0.]\n",
            " [0.]\n",
            " [1.]\n",
            " [1.]\n",
            " [0.]\n",
            " [1.]\n",
            " [0.]\n",
            " [1.]\n",
            " [0.]], shape=(32, 1), dtype=float32)\n"
          ]
        }
      ]
    },
    {
      "cell_type": "markdown",
      "source": [
        "#### Building a feature extraction model with the Keras Functional API"
      ],
      "metadata": {
        "id": "xizXfCTU_AzU"
      }
    },
    {
      "cell_type": "code",
      "source": [
        "# 1.  create base model with tf.keras.applications\n",
        "base_model = tf.keras.applications.EfficientNetB0(include_top=False)\n",
        "\n",
        "# 2. Freeze the base model\n",
        "base_model.trainable = False\n",
        "\n",
        "# 3. create inputs into our model\n",
        "inputs = tf.keras.layers.Input(shape=(224, 224, 3), name=\"input_layer\")\n",
        "\n",
        "# 4. if using ResNet50V2 you will need to normalize inputs\n",
        "# x = tf.keras.layers.experimental.preprocessing.Rescaling(1./255)(inputs)\n",
        "\n",
        "# 5. pass the inputs to the base_model\n",
        "x = base_model(inputs)\n",
        "print(f\"Shape after passing inputs through base model: {x.shape}\")\n",
        "\n",
        "# 6. average pool the outputs of the base model (aggregate all the most important information, reduce number of computations)\n",
        "x = tf.keras.layers.GlobalAveragePooling2D(name=\"global_average_pooling_layer\")(x)\n",
        "print(f\"Shape after GlobalAveragePooling2D: {x.shape}\")\n",
        "\n",
        "# 7. create the output activation layer\n",
        "outputs = tf.keras.layers.Dense(1, activation=\"sigmoid\", name=\"output_layer\")(x)\n",
        "model_0 = tf.keras.Model(inputs, outputs)\n",
        "\n",
        "# 8. compile the model\n",
        "model_0.compile(loss=\"binary_crossentropy\",\n",
        "                optimizer=tf.keras.optimizers.Adam(),\n",
        "                metrics=[\"accuracy\"])\n",
        "\n",
        "# 9. fit the model\n",
        "history_0 = model_0.fit(train_data,\n",
        "                        epochs=40,\n",
        "                        steps_per_epoch=len(train_data),\n",
        "                        validation_data=test_data,\n",
        "                        validation_steps=int(0.25 * len(test_data)),\n",
        "                        callbacks=[create_tensorboard_callback(dir_name=\"transfer_learning\",\n",
        "                                                              experiment_name=\"10_percent_feature_extraction\")])"
      ],
      "metadata": {
        "colab": {
          "base_uri": "https://localhost:8080/"
        },
        "id": "xqqO78-86ieO",
        "outputId": "6da7a5e8-30af-4a37-bf27-c14c3c07f127"
      },
      "execution_count": 8,
      "outputs": [
        {
          "output_type": "stream",
          "name": "stdout",
          "text": [
            "Shape after passing inputs through base model: (None, 7, 7, 1280)\n",
            "Shape after GlobalAveragePooling2D: (None, 1280)\n",
            "Saving TensorBoard log files to: transfer_learning/10_percent_feature_extraction/20240509-021913\n",
            "Epoch 1/40\n",
            "231/231 [==============================] - 509s 2s/step - loss: 0.6638 - accuracy: 0.5927 - val_loss: 0.6725 - val_accuracy: 0.7031\n",
            "Epoch 2/40\n",
            "231/231 [==============================] - 25s 103ms/step - loss: 0.6172 - accuracy: 0.6597 - val_loss: 0.6394 - val_accuracy: 0.6875\n",
            "Epoch 3/40\n",
            "231/231 [==============================] - 25s 104ms/step - loss: 0.6028 - accuracy: 0.6748 - val_loss: 0.6000 - val_accuracy: 0.7188\n",
            "Epoch 4/40\n",
            "231/231 [==============================] - 25s 103ms/step - loss: 0.5937 - accuracy: 0.6794 - val_loss: 0.6794 - val_accuracy: 0.6094\n",
            "Epoch 5/40\n",
            "231/231 [==============================] - 24s 102ms/step - loss: 0.5847 - accuracy: 0.6927 - val_loss: 0.5994 - val_accuracy: 0.7031\n",
            "Epoch 6/40\n",
            "231/231 [==============================] - 24s 102ms/step - loss: 0.5781 - accuracy: 0.6922 - val_loss: 0.5285 - val_accuracy: 0.7656\n",
            "Epoch 7/40\n",
            "231/231 [==============================] - 24s 102ms/step - loss: 0.5732 - accuracy: 0.6998 - val_loss: 0.6008 - val_accuracy: 0.7344\n",
            "Epoch 8/40\n",
            "231/231 [==============================] - 24s 102ms/step - loss: 0.5674 - accuracy: 0.7090 - val_loss: 0.5952 - val_accuracy: 0.6875\n",
            "Epoch 9/40\n",
            "231/231 [==============================] - 24s 102ms/step - loss: 0.5637 - accuracy: 0.7118 - val_loss: 0.6174 - val_accuracy: 0.6406\n",
            "Epoch 10/40\n",
            "231/231 [==============================] - 24s 102ms/step - loss: 0.5660 - accuracy: 0.7052 - val_loss: 0.5709 - val_accuracy: 0.6562\n",
            "Epoch 11/40\n",
            "231/231 [==============================] - 24s 102ms/step - loss: 0.5573 - accuracy: 0.7125 - val_loss: 0.5254 - val_accuracy: 0.7188\n",
            "Epoch 12/40\n",
            "231/231 [==============================] - 24s 102ms/step - loss: 0.5536 - accuracy: 0.7137 - val_loss: 0.5988 - val_accuracy: 0.6719\n",
            "Epoch 13/40\n",
            "231/231 [==============================] - 24s 102ms/step - loss: 0.5484 - accuracy: 0.7230 - val_loss: 0.6238 - val_accuracy: 0.6406\n",
            "Epoch 14/40\n",
            "231/231 [==============================] - 25s 104ms/step - loss: 0.5491 - accuracy: 0.7190 - val_loss: 0.6761 - val_accuracy: 0.5938\n",
            "Epoch 15/40\n",
            "231/231 [==============================] - 24s 102ms/step - loss: 0.5469 - accuracy: 0.7228 - val_loss: 0.5235 - val_accuracy: 0.6875\n",
            "Epoch 16/40\n",
            "231/231 [==============================] - 25s 103ms/step - loss: 0.5434 - accuracy: 0.7237 - val_loss: 0.6094 - val_accuracy: 0.6094\n",
            "Epoch 17/40\n",
            "231/231 [==============================] - 24s 102ms/step - loss: 0.5418 - accuracy: 0.7211 - val_loss: 0.5968 - val_accuracy: 0.7031\n",
            "Epoch 18/40\n",
            "231/231 [==============================] - 24s 102ms/step - loss: 0.5416 - accuracy: 0.7261 - val_loss: 0.6309 - val_accuracy: 0.6562\n",
            "Epoch 19/40\n",
            "231/231 [==============================] - 25s 103ms/step - loss: 0.5378 - accuracy: 0.7330 - val_loss: 0.6604 - val_accuracy: 0.6562\n",
            "Epoch 20/40\n",
            "231/231 [==============================] - 24s 103ms/step - loss: 0.5407 - accuracy: 0.7261 - val_loss: 0.6866 - val_accuracy: 0.5938\n",
            "Epoch 21/40\n",
            "231/231 [==============================] - 24s 103ms/step - loss: 0.5316 - accuracy: 0.7325 - val_loss: 0.6797 - val_accuracy: 0.6250\n",
            "Epoch 22/40\n",
            "231/231 [==============================] - 24s 102ms/step - loss: 0.5346 - accuracy: 0.7272 - val_loss: 0.6183 - val_accuracy: 0.6406\n",
            "Epoch 23/40\n",
            "231/231 [==============================] - 24s 103ms/step - loss: 0.5308 - accuracy: 0.7371 - val_loss: 0.6771 - val_accuracy: 0.6094\n",
            "Epoch 24/40\n",
            "231/231 [==============================] - 24s 102ms/step - loss: 0.5310 - accuracy: 0.7355 - val_loss: 0.6330 - val_accuracy: 0.6562\n",
            "Epoch 25/40\n",
            "231/231 [==============================] - 25s 103ms/step - loss: 0.5332 - accuracy: 0.7284 - val_loss: 0.5713 - val_accuracy: 0.7188\n",
            "Epoch 26/40\n",
            "231/231 [==============================] - 25s 104ms/step - loss: 0.5283 - accuracy: 0.7361 - val_loss: 0.7110 - val_accuracy: 0.5312\n",
            "Epoch 27/40\n",
            "231/231 [==============================] - 24s 103ms/step - loss: 0.5294 - accuracy: 0.7366 - val_loss: 0.5063 - val_accuracy: 0.7656\n",
            "Epoch 28/40\n",
            "231/231 [==============================] - 24s 102ms/step - loss: 0.5288 - accuracy: 0.7351 - val_loss: 0.6010 - val_accuracy: 0.6562\n",
            "Epoch 29/40\n",
            "231/231 [==============================] - 24s 102ms/step - loss: 0.5228 - accuracy: 0.7410 - val_loss: 0.5905 - val_accuracy: 0.6406\n",
            "Epoch 30/40\n",
            "231/231 [==============================] - 24s 102ms/step - loss: 0.5221 - accuracy: 0.7379 - val_loss: 0.6833 - val_accuracy: 0.6094\n",
            "Epoch 31/40\n",
            "231/231 [==============================] - 24s 102ms/step - loss: 0.5191 - accuracy: 0.7412 - val_loss: 0.6684 - val_accuracy: 0.6250\n",
            "Epoch 32/40\n",
            "231/231 [==============================] - 24s 103ms/step - loss: 0.5209 - accuracy: 0.7336 - val_loss: 0.7408 - val_accuracy: 0.5938\n",
            "Epoch 33/40\n",
            "231/231 [==============================] - 25s 103ms/step - loss: 0.5198 - accuracy: 0.7452 - val_loss: 0.7127 - val_accuracy: 0.6094\n",
            "Epoch 34/40\n",
            "231/231 [==============================] - 24s 102ms/step - loss: 0.5163 - accuracy: 0.7435 - val_loss: 0.6752 - val_accuracy: 0.5781\n",
            "Epoch 35/40\n",
            "231/231 [==============================] - 24s 102ms/step - loss: 0.5160 - accuracy: 0.7473 - val_loss: 0.7534 - val_accuracy: 0.5938\n",
            "Epoch 36/40\n",
            "231/231 [==============================] - 24s 102ms/step - loss: 0.5159 - accuracy: 0.7461 - val_loss: 0.7129 - val_accuracy: 0.6094\n",
            "Epoch 37/40\n",
            "231/231 [==============================] - 24s 102ms/step - loss: 0.5167 - accuracy: 0.7443 - val_loss: 0.6692 - val_accuracy: 0.6094\n",
            "Epoch 38/40\n",
            "231/231 [==============================] - 24s 102ms/step - loss: 0.5191 - accuracy: 0.7414 - val_loss: 0.5592 - val_accuracy: 0.6875\n",
            "Epoch 39/40\n",
            "231/231 [==============================] - 25s 103ms/step - loss: 0.5145 - accuracy: 0.7429 - val_loss: 0.5745 - val_accuracy: 0.7188\n",
            "Epoch 40/40\n",
            "231/231 [==============================] - 25s 103ms/step - loss: 0.5152 - accuracy: 0.7467 - val_loss: 0.6385 - val_accuracy: 0.6406\n"
          ]
        }
      ]
    },
    {
      "cell_type": "code",
      "source": [
        "import matplotlib.pyplot as plt\n",
        "\n",
        "def plot_loss_curves(history):\n",
        "  \"\"\"\n",
        "  Returns separate loss curves for training and validation metrics.\n",
        "  Args:\n",
        "    history: TensorFlow History object.\n",
        "\n",
        "    Returns:\n",
        "    Plots of training/validation loss and accuracy metrics.\n",
        "  \"\"\"\n",
        "  loss = history.history['loss']\n",
        "  val_loss = history.history['val_loss']\n",
        "\n",
        "  accuracy = history.history['accuracy']\n",
        "  val_accuracy = history.history['val_accuracy']\n",
        "\n",
        "  epochs = range(len(history.history['loss']))\n",
        "\n",
        "  #Plot loss\n",
        "\n",
        "  plt.plot(epochs, loss, label='training_loss')\n",
        "  plt.plot(epochs, val_loss, label='val_loss')\n",
        "  plt.title('Loss')\n",
        "  plt.xlabel('Epochs')\n",
        "  plt.legend()\n",
        "\n",
        "  #Plot accuracy\n",
        "  plt.figure()\n",
        "  plt.plot(epochs, accuracy, label='training_accuracy')\n",
        "  plt.plot(epochs, val_accuracy, label='val_accuracy')\n",
        "  plt.title('Accuracy')\n",
        "  plt.xlabel('Epochs')\n",
        "  plt.legend();\n",
        "\n",
        "plot_loss_curves(history_0)"
      ],
      "metadata": {
        "colab": {
          "base_uri": "https://localhost:8080/",
          "height": 927
        },
        "id": "scUdoiNDJeua",
        "outputId": "7bc4b34b-fa11-46d9-ecb9-d4114775e7f6"
      },
      "execution_count": 9,
      "outputs": [
        {
          "output_type": "display_data",
          "data": {
            "text/plain": [
              "<Figure size 640x480 with 1 Axes>"
            ],
            "image/png": "[encoded data removed]"
          },
          "metadata": {}
        },
        {
          "output_type": "display_data",
          "data": {
            "text/plain": [
              "<Figure size 640x480 with 1 Axes>"
            ],
            "image/png": "[encoded data removed]"
          },
          "metadata": {}
        }
      ]
    },
    {
      "cell_type": "code",
      "source": [
        "from google.colab import files\n",
        "\n",
        "# Not defterini indirme işlemi\n",
        "files.download(\"09.05.2024.ipynb\")\n"
      ],
      "metadata": {
        "colab": {
          "base_uri": "https://localhost:8080/",
          "height": 297
        },
        "id": "2rvZBXA6JnpO",
        "outputId": "665b8afc-5f4f-4a52-834e-7b2b6b10d2cd"
      },
      "execution_count": 10,
      "outputs": [
        {
          "output_type": "error",
          "ename": "FileNotFoundError",
          "evalue": "Cannot find file: 09.05.2024.ipynb",
          "traceback": [
            "\u001b[0;31m---------------------------------------------------------------------------\u001b[0m",
            "\u001b[0;31mFileNotFoundError\u001b[0m                         Traceback (most recent call last)",
            "\u001b[0;32m<ipython-input-10-393946cb6217>\u001b[0m in \u001b[0;36m<cell line: 4>\u001b[0;34m()\u001b[0m\n\u001b[1;32m      2\u001b[0m \u001b[0;34m\u001b[0m\u001b[0m\n\u001b[1;32m      3\u001b[0m \u001b[0;31m# Not defterini indirme işlemi\u001b[0m\u001b[0;34m\u001b[0m\u001b[0;34m\u001b[0m\u001b[0m\n\u001b[0;32m----> 4\u001b[0;31m \u001b[0mfiles\u001b[0m\u001b[0;34m.\u001b[0m\u001b[0mdownload\u001b[0m\u001b[0;34m(\u001b[0m\u001b[0;34m\"09.05.2024.ipynb\"\u001b[0m\u001b[0;34m)\u001b[0m\u001b[0;34m\u001b[0m\u001b[0;34m\u001b[0m\u001b[0m\n\u001b[0m",
            "\u001b[0;32m/usr/local/lib/python3.10/dist-packages/google/colab/files.py\u001b[0m in \u001b[0;36mdownload\u001b[0;34m(filename)\u001b[0m\n\u001b[1;32m    223\u001b[0m   \u001b[0;32mif\u001b[0m \u001b[0;32mnot\u001b[0m \u001b[0m_os\u001b[0m\u001b[0;34m.\u001b[0m\u001b[0mpath\u001b[0m\u001b[0;34m.\u001b[0m\u001b[0mexists\u001b[0m\u001b[0;34m(\u001b[0m\u001b[0mfilename\u001b[0m\u001b[0;34m)\u001b[0m\u001b[0;34m:\u001b[0m\u001b[0;34m\u001b[0m\u001b[0;34m\u001b[0m\u001b[0m\n\u001b[1;32m    224\u001b[0m     \u001b[0mmsg\u001b[0m \u001b[0;34m=\u001b[0m \u001b[0;34m'Cannot find file: {}'\u001b[0m\u001b[0;34m.\u001b[0m\u001b[0mformat\u001b[0m\u001b[0;34m(\u001b[0m\u001b[0mfilename\u001b[0m\u001b[0;34m)\u001b[0m\u001b[0;34m\u001b[0m\u001b[0;34m\u001b[0m\u001b[0m\n\u001b[0;32m--> 225\u001b[0;31m     \u001b[0;32mraise\u001b[0m \u001b[0mFileNotFoundError\u001b[0m\u001b[0;34m(\u001b[0m\u001b[0mmsg\u001b[0m\u001b[0;34m)\u001b[0m  \u001b[0;31m# pylint: disable=undefined-variable\u001b[0m\u001b[0;34m\u001b[0m\u001b[0;34m\u001b[0m\u001b[0m\n\u001b[0m\u001b[1;32m    226\u001b[0m \u001b[0;34m\u001b[0m\u001b[0m\n\u001b[1;32m    227\u001b[0m   \u001b[0mcomm_manager\u001b[0m \u001b[0;34m=\u001b[0m \u001b[0m_IPython\u001b[0m\u001b[0;34m.\u001b[0m\u001b[0mget_ipython\u001b[0m\u001b[0;34m(\u001b[0m\u001b[0;34m)\u001b[0m\u001b[0;34m.\u001b[0m\u001b[0mkernel\u001b[0m\u001b[0;34m.\u001b[0m\u001b[0mcomm_manager\u001b[0m\u001b[0;34m\u001b[0m\u001b[0;34m\u001b[0m\u001b[0m\n",
            "\u001b[0;31mFileNotFoundError\u001b[0m: Cannot find file: 09.05.2024.ipynb"
          ]
        }
      ]
    },
    {
      "cell_type": "code",
      "source": [],
      "metadata": {
        "id": "4r4PsaEhJrPX"
      },
      "execution_count": null,
      "outputs": []
    }
  ]
}